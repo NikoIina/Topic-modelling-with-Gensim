{
 "cells": [
  {
   "cell_type": "markdown",
   "id": "69018c0d-eeb2-4b96-ad13-60a17285aaa8",
   "metadata": {},
   "source": [
    "# Topic Modelling with Gensim (Python)"
   ]
  },
  {
   "cell_type": "markdown",
   "id": "8dc23160-e1a0-4dd4-b5b5-2dfbdbca8b78",
   "metadata": {},
   "source": [
    "One of the primary applications of natural language processing is to automatically extract what topics people are discussing from large volumes of text. Some examples of large text could be feeds from social media, customer reviews of hotels, movies, etc, user feedbacks, news stories, e-mails of customer complaints etc.\n",
    "\n",
    "Knowing what people are talking about and understanding their problems and opinions is highly valuable to businesses, administrators, political campaigns. And it’s really hard to manually read through such large volumes and compile the topics.\n",
    "Thus is required an automated algorithm that can read through the text documents and automatically output the topics discussed.\n",
    "\n",
    "In this project, I will take a real example of the ’20 Newsgroups’ dataset and use LDA to extract the naturally discussed topics."
   ]
  },
  {
   "cell_type": "markdown",
   "id": "45a13bf5-b037-4176-9e15-ad2ba4e364c1",
   "metadata": {},
   "source": [
    "## Import packages\n",
    "\n",
    "The core packages I'm going to use in this project are re, gensim, spacy and pyLDAvis. On top of that I'll use pandas, numpy and matplotlib.\n",
    "\n",
    "I will need the stopwords from NLTK and spacy's en_core_web_sm model for text pre-processing. Later in the project spacy will be used for lemmatization. "
   ]
  },
  {
   "cell_type": "code",
   "execution_count": 38,
   "id": "4b124222-be98-4f4a-a37f-8cc288c75d26",
   "metadata": {},
   "outputs": [
    {
     "ename": "ModuleNotFoundError",
     "evalue": "No module named 'gensim.models.wrappers'",
     "output_type": "error",
     "traceback": [
      "\u001b[1;31m---------------------------------------------------------------------------\u001b[0m",
      "\u001b[1;31mModuleNotFoundError\u001b[0m                       Traceback (most recent call last)",
      "\u001b[1;32m<ipython-input-38-f964b276d779>\u001b[0m in \u001b[0;36m<module>\u001b[1;34m\u001b[0m\n\u001b[0;32m      9\u001b[0m \u001b[1;32mfrom\u001b[0m \u001b[0mgensim\u001b[0m\u001b[1;33m.\u001b[0m\u001b[0mutils\u001b[0m \u001b[1;32mimport\u001b[0m \u001b[0msimple_preprocess\u001b[0m\u001b[1;33m\u001b[0m\u001b[1;33m\u001b[0m\u001b[0m\n\u001b[0;32m     10\u001b[0m \u001b[1;32mfrom\u001b[0m \u001b[0mgensim\u001b[0m\u001b[1;33m.\u001b[0m\u001b[0mmodels\u001b[0m \u001b[1;32mimport\u001b[0m \u001b[0mCoherenceModel\u001b[0m\u001b[1;33m\u001b[0m\u001b[1;33m\u001b[0m\u001b[0m\n\u001b[1;32m---> 11\u001b[1;33m \u001b[1;32mfrom\u001b[0m \u001b[0mgensim\u001b[0m\u001b[1;33m.\u001b[0m\u001b[0mmodels\u001b[0m\u001b[1;33m.\u001b[0m\u001b[0mwrappers\u001b[0m \u001b[1;32mimport\u001b[0m \u001b[0mLdaMallet\u001b[0m\u001b[1;33m\u001b[0m\u001b[1;33m\u001b[0m\u001b[0m\n\u001b[0m\u001b[0;32m     12\u001b[0m \u001b[1;33m\u001b[0m\u001b[0m\n\u001b[0;32m     13\u001b[0m \u001b[1;31m# spacy for lemmatization\u001b[0m\u001b[1;33m\u001b[0m\u001b[1;33m\u001b[0m\u001b[1;33m\u001b[0m\u001b[0m\n",
      "\u001b[1;31mModuleNotFoundError\u001b[0m: No module named 'gensim.models.wrappers'"
     ]
    }
   ],
   "source": [
    "import nltk; nltk.download('stopwords')\n",
    "\n",
    "import re\n",
    "import numpy as np\n",
    "import pandas as pd\n",
    "from pprint import pprint\n",
    "\n",
    "# Gensim\n",
    "import gensim\n",
    "import gensim.corpora as corpora\n",
    "from gensim.utils import simple_preprocess\n",
    "from gensim.models import CoherenceModel\n",
    "from gensim.models.wrappers import LdaMallet\n",
    "\n",
    "# spacy for lemmatization\n",
    "import spacy\n",
    "\n",
    "# Plotting tools\n",
    "import pyLDAvis\n",
    "import pyLDAvis.gensim_models  # don't skip this\n",
    "import matplotlib.pyplot as plt\n",
    "%matplotlib inline\n",
    "\n",
    "# Enable logging for gensim - optional\n",
    "import logging\n",
    "logging.basicConfig(format='%(asctime)s : %(levelname)s : %(message)s', level=logging.ERROR)\n",
    "\n",
    "import warnings\n",
    "warnings.filterwarnings(\"ignore\",category=DeprecationWarning)"
   ]
  },
  {
   "cell_type": "markdown",
   "id": "eb973bbc-87d3-4d2f-b0d9-79ff1766196c",
   "metadata": {},
   "source": [
    "## LDA approach\n",
    "\n",
    "LDA’s approach to topic modeling is that it considers each document as a collection of topics in a certain proportion. And each topic as a collection of keywords, again, in a certain proportion.\n",
    "\n",
    "Once you provide the algorithm with the number of topics, all it does it to rearrange the topics distribution within the documents and keywords distribution within the topics to obtain a good composition of topic-keywords distribution.\n",
    "\n",
    "A topic is a collection of dominant keywords that are typical representatives. Just by looking at the keywords, you can identify what the topic is all about.\n",
    "\n",
    "The following are key factors to obtaining good segregation topics:\n",
    "\n",
    "1. The quality of text processing.\n",
    "2. The variety of topics the text talks about.\n",
    "3. The choice of topic modeling algorithm.\n",
    "4. The number of topics fed to the algorithm.\n",
    "5. The algorithms tuning parameters."
   ]
  },
  {
   "cell_type": "markdown",
   "id": "fb720e31-b69d-4954-8c37-b92f394594e9",
   "metadata": {},
   "source": [
    "## Prepare Stopwords"
   ]
  },
  {
   "cell_type": "code",
   "execution_count": 13,
   "id": "8a283e72-b366-40f9-aff5-c2486de73574",
   "metadata": {},
   "outputs": [],
   "source": [
    "# NLTK Stop words\n",
    "from nltk.corpus import stopwords\n",
    "stop_words = stopwords.words('english')\n",
    "stop_words.extend(['from', 'subject', 're', 'edu', 'use'])"
   ]
  },
  {
   "cell_type": "markdown",
   "id": "c9cb97ea-8d7c-46c6-aeee-4f87a1f1bbfb",
   "metadata": {},
   "source": [
    "## Import Newsgroups Data\n",
    "\n",
    "I will be working with the 20-Newsgroups dataset for this project. This version of dataset contains about 11k posts from 20 different topics. This is available at newsgroups.json."
   ]
  },
  {
   "cell_type": "code",
   "execution_count": 14,
   "id": "4da4049d-5dc1-45b3-9271-42b8ae720aa7",
   "metadata": {},
   "outputs": [
    {
     "name": "stdout",
     "output_type": "stream",
     "text": [
      "['rec.autos' 'comp.sys.mac.hardware' 'comp.graphics' 'sci.space'\n",
      " 'talk.politics.guns' 'sci.med' 'comp.sys.ibm.pc.hardware'\n",
      " 'comp.os.ms-windows.misc' 'rec.motorcycles' 'talk.religion.misc'\n",
      " 'misc.forsale' 'alt.atheism' 'sci.electronics' 'comp.windows.x'\n",
      " 'rec.sport.hockey' 'rec.sport.baseball' 'soc.religion.christian'\n",
      " 'talk.politics.mideast' 'talk.politics.misc' 'sci.crypt']\n"
     ]
    },
    {
     "data": {
      "text/html": [
       "<div>\n",
       "<style scoped>\n",
       "    .dataframe tbody tr th:only-of-type {\n",
       "        vertical-align: middle;\n",
       "    }\n",
       "\n",
       "    .dataframe tbody tr th {\n",
       "        vertical-align: top;\n",
       "    }\n",
       "\n",
       "    .dataframe thead th {\n",
       "        text-align: right;\n",
       "    }\n",
       "</style>\n",
       "<table border=\"1\" class=\"dataframe\">\n",
       "  <thead>\n",
       "    <tr style=\"text-align: right;\">\n",
       "      <th></th>\n",
       "      <th>content</th>\n",
       "      <th>target</th>\n",
       "      <th>target_names</th>\n",
       "    </tr>\n",
       "  </thead>\n",
       "  <tbody>\n",
       "    <tr>\n",
       "      <th>0</th>\n",
       "      <td>From: lerxst@wam.umd.edu (where's my thing)\\nS...</td>\n",
       "      <td>7</td>\n",
       "      <td>rec.autos</td>\n",
       "    </tr>\n",
       "    <tr>\n",
       "      <th>1</th>\n",
       "      <td>From: guykuo@carson.u.washington.edu (Guy Kuo)...</td>\n",
       "      <td>4</td>\n",
       "      <td>comp.sys.mac.hardware</td>\n",
       "    </tr>\n",
       "    <tr>\n",
       "      <th>2</th>\n",
       "      <td>From: twillis@ec.ecn.purdue.edu (Thomas E Will...</td>\n",
       "      <td>4</td>\n",
       "      <td>comp.sys.mac.hardware</td>\n",
       "    </tr>\n",
       "    <tr>\n",
       "      <th>3</th>\n",
       "      <td>From: jgreen@amber (Joe Green)\\nSubject: Re: W...</td>\n",
       "      <td>1</td>\n",
       "      <td>comp.graphics</td>\n",
       "    </tr>\n",
       "    <tr>\n",
       "      <th>4</th>\n",
       "      <td>From: jcm@head-cfa.harvard.edu (Jonathan McDow...</td>\n",
       "      <td>14</td>\n",
       "      <td>sci.space</td>\n",
       "    </tr>\n",
       "  </tbody>\n",
       "</table>\n",
       "</div>"
      ],
      "text/plain": [
       "                                             content  target  \\\n",
       "0  From: lerxst@wam.umd.edu (where's my thing)\\nS...       7   \n",
       "1  From: guykuo@carson.u.washington.edu (Guy Kuo)...       4   \n",
       "2  From: twillis@ec.ecn.purdue.edu (Thomas E Will...       4   \n",
       "3  From: jgreen@amber (Joe Green)\\nSubject: Re: W...       1   \n",
       "4  From: jcm@head-cfa.harvard.edu (Jonathan McDow...      14   \n",
       "\n",
       "            target_names  \n",
       "0              rec.autos  \n",
       "1  comp.sys.mac.hardware  \n",
       "2  comp.sys.mac.hardware  \n",
       "3          comp.graphics  \n",
       "4              sci.space  "
      ]
     },
     "execution_count": 14,
     "metadata": {},
     "output_type": "execute_result"
    }
   ],
   "source": [
    "# Import Dataset\n",
    "df = pd.read_json('https://raw.githubusercontent.com/selva86/datasets/master/newsgroups.json')\n",
    "print(df.target_names.unique())\n",
    "df.head()"
   ]
  },
  {
   "cell_type": "markdown",
   "id": "9b45b893-33f3-411c-9a43-4e2f789ec918",
   "metadata": {},
   "source": [
    "## Remove emails and newline characters"
   ]
  },
  {
   "cell_type": "code",
   "execution_count": 15,
   "id": "297c66f1-681f-4a54-b8cb-b33f0fea6200",
   "metadata": {},
   "outputs": [
    {
     "name": "stdout",
     "output_type": "stream",
     "text": [
      "['From: (wheres my thing) Subject: WHAT car is this!? Nntp-Posting-Host: '\n",
      " 'rac3.wam.umd.edu Organization: University of Maryland, College Park Lines: '\n",
      " '15 I was wondering if anyone out there could enlighten me on this car I saw '\n",
      " 'the other day. It was a 2-door sports car, looked to be from the late 60s/ '\n",
      " 'early 70s. It was called a Bricklin. The doors were really small. In '\n",
      " 'addition, the front bumper was separate from the rest of the body. This is '\n",
      " 'all I know. If anyone can tellme a model name, engine specs, years of '\n",
      " 'production, where this car is made, history, or whatever info you have on '\n",
      " 'this funky looking car, please e-mail. Thanks, - IL ---- brought to you by '\n",
      " 'your neighborhood Lerxst ---- ']\n"
     ]
    }
   ],
   "source": [
    "# Convert to list\n",
    "data = df.content.values.tolist()\n",
    "\n",
    "# Remove Emails\n",
    "data = [re.sub('\\S*@\\S*\\s?', '', sent) for sent in data]\n",
    "\n",
    "# Remove new line characters\n",
    "data = [re.sub('\\s+', ' ', sent) for sent in data]\n",
    "\n",
    "# Remove distracting single quotes\n",
    "data = [re.sub(\"\\'\", \"\", sent) for sent in data]\n",
    "\n",
    "pprint(data[:1])"
   ]
  },
  {
   "cell_type": "markdown",
   "id": "6aadee2d-7fff-4e6c-9510-902e0f697a9d",
   "metadata": {},
   "source": [
    "After removing the emails and extra spaces, the text is still not ready for the LDA to work with. I need to break down each sentence into a list of words through tokenization, while clearing up all the messy text in the process.\n",
    "\n",
    "I'm going to use Gensim’s simple_preprocess for this."
   ]
  },
  {
   "cell_type": "markdown",
   "id": "960f651a-d9dd-4332-b03d-b00c8a7ccd2e",
   "metadata": {},
   "source": [
    "## Tokenize words and Clean-up text\n",
    "\n",
    "I'm going to tokenize each sentence into a list of words, removing punctuations and unnecessary characters.\n",
    "\n",
    "Using Gensim's simple_preprocess(), I'm going to set deacc=True to remove the punctuations."
   ]
  },
  {
   "cell_type": "code",
   "execution_count": 16,
   "id": "54cf6394-15bc-4ee8-9441-17f485efd876",
   "metadata": {},
   "outputs": [
    {
     "name": "stdout",
     "output_type": "stream",
     "text": [
      "[['from', 'wheres', 'my', 'thing', 'subject', 'what', 'car', 'is', 'this', 'nntp', 'posting', 'host', 'rac', 'wam', 'umd', 'edu', 'organization', 'university', 'of', 'maryland', 'college', 'park', 'lines', 'was', 'wondering', 'if', 'anyone', 'out', 'there', 'could', 'enlighten', 'me', 'on', 'this', 'car', 'saw', 'the', 'other', 'day', 'it', 'was', 'door', 'sports', 'car', 'looked', 'to', 'be', 'from', 'the', 'late', 'early', 'it', 'was', 'called', 'bricklin', 'the', 'doors', 'were', 'really', 'small', 'in', 'addition', 'the', 'front', 'bumper', 'was', 'separate', 'from', 'the', 'rest', 'of', 'the', 'body', 'this', 'is', 'all', 'know', 'if', 'anyone', 'can', 'tellme', 'model', 'name', 'engine', 'specs', 'years', 'of', 'production', 'where', 'this', 'car', 'is', 'made', 'history', 'or', 'whatever', 'info', 'you', 'have', 'on', 'this', 'funky', 'looking', 'car', 'please', 'mail', 'thanks', 'il', 'brought', 'to', 'you', 'by', 'your', 'neighborhood', 'lerxst']]\n"
     ]
    }
   ],
   "source": [
    "def sent_to_words(sentences):\n",
    "    for sentence in sentences:\n",
    "        yield(gensim.utils.simple_preprocess(str(sentence), deacc=True))  # deacc=True removes punctuations\n",
    "\n",
    "data_words = list(sent_to_words(data))\n",
    "\n",
    "print(data_words[:1])"
   ]
  },
  {
   "cell_type": "markdown",
   "id": "8ef5536d-274e-49ac-99ae-cb9f47957bf4",
   "metadata": {},
   "source": [
    "## Creating Bigram and Trigram Models\n",
    "\n",
    "Bigrams are two words frequently occurring together in the document. Trigrams are three words frequently occurring.\n",
    "Some examples in current dataset are: ‘front_bumper’, ‘oil_leak’, ‘maryland_college_park’ etc.\n",
    "\n",
    "Gensim’s Phrases model can build and implement the bigrams, trigrams, quadgrams and more. The two important arguments to Phrases are min_count and threshold. The higher the values of these param, the harder it is for words to be combined to bigrams."
   ]
  },
  {
   "cell_type": "code",
   "execution_count": 17,
   "id": "b7f60449-301e-4cfd-8c6e-fdd350c082ce",
   "metadata": {},
   "outputs": [
    {
     "name": "stdout",
     "output_type": "stream",
     "text": [
      "['from', 'wheres', 'my', 'thing', 'subject', 'what', 'car', 'is', 'this', 'nntp_posting_host', 'rac_wam_umd_edu', 'organization', 'university', 'of', 'maryland_college_park', 'lines', 'was', 'wondering', 'if', 'anyone', 'out', 'there', 'could', 'enlighten', 'me', 'on', 'this', 'car', 'saw', 'the', 'other', 'day', 'it', 'was', 'door', 'sports', 'car', 'looked', 'to', 'be', 'from', 'the', 'late', 'early', 'it', 'was', 'called', 'bricklin', 'the', 'doors', 'were', 'really', 'small', 'in', 'addition', 'the', 'front_bumper', 'was', 'separate', 'from', 'the', 'rest', 'of', 'the', 'body', 'this', 'is', 'all', 'know', 'if', 'anyone', 'can', 'tellme', 'model', 'name', 'engine', 'specs', 'years', 'of', 'production', 'where', 'this', 'car', 'is', 'made', 'history', 'or', 'whatever', 'info', 'you', 'have', 'on', 'this', 'funky', 'looking', 'car', 'please', 'mail', 'thanks', 'il', 'brought', 'to', 'you', 'by', 'your', 'neighborhood', 'lerxst']\n"
     ]
    }
   ],
   "source": [
    "# Build the bigram and trigram models\n",
    "bigram = gensim.models.Phrases(data_words, min_count=5, threshold=100) # higher threshold fewer phrases.\n",
    "trigram = gensim.models.Phrases(bigram[data_words], threshold=100)  \n",
    "\n",
    "# Faster way to get a sentence clubbed as a trigram/bigram\n",
    "bigram_mod = gensim.models.phrases.Phraser(bigram)\n",
    "trigram_mod = gensim.models.phrases.Phraser(trigram)\n",
    "\n",
    "# See trigram example\n",
    "print(trigram_mod[bigram_mod[data_words[0]]])"
   ]
  },
  {
   "cell_type": "markdown",
   "id": "b5bcd54e-f568-4781-98f9-57288d613038",
   "metadata": {},
   "source": [
    "Now, I'm going to create functions to remove stopwords, make bigrams and lemmatization.\n",
    "\n",
    "Lemmatization is a process of converting a word to its root word. For example: the lemma of the word 'machines' is 'machine', 'walking' is 'walk' and so on."
   ]
  },
  {
   "cell_type": "code",
   "execution_count": 18,
   "id": "633a418b-3534-4f3f-9074-eb970f733273",
   "metadata": {},
   "outputs": [],
   "source": [
    "# Define functions for stopwords, bigrams, trigrams and lemmatization\n",
    "def remove_stopwords(texts):\n",
    "    return [[word for word in simple_preprocess(str(doc)) if word not in stop_words] for doc in texts]\n",
    "\n",
    "def make_bigrams(texts):\n",
    "    return [bigram_mod[doc] for doc in texts]\n",
    "\n",
    "def make_trigrams(texts):\n",
    "    return [trigram_mod[bigram_mod[doc]] for doc in texts]\n",
    "\n",
    "def lemmatization(texts, allowed_postags=['NOUN', 'ADJ', 'VERB', 'ADV']):\n",
    "    \"\"\"https://spacy.io/api/annotation\"\"\"\n",
    "    texts_out = []\n",
    "    for sent in texts:\n",
    "        doc = nlp(\" \".join(sent)) \n",
    "        texts_out.append([token.lemma_ for token in doc if token.pos_ in allowed_postags])\n",
    "    return texts_out"
   ]
  },
  {
   "cell_type": "code",
   "execution_count": 26,
   "id": "a37862be-5d2a-4ea8-86e0-65096b8888e8",
   "metadata": {},
   "outputs": [
    {
     "name": "stdout",
     "output_type": "stream",
     "text": [
      "[['thing', 'car', 'nntp_poste', 'host', 'rac_wam', 'park', 'line', 'wonder', 'enlighten', 'car', 'see', 'day', 'door', 'sport', 'car', 'look', 'late', 'early', 'call', 'door', 'really', 'small', 'addition', 'front_bumper', 'separate', 'rest', 'body', 'know', 'tellme', 'model', 'name', 'engine', 'spec', 'year', 'production', 'car', 'make', 'history', 'info', 'funky', 'look', 'car', 'mail', 'thank', 'bring', 'neighborhood', 'lerxst']]\n"
     ]
    }
   ],
   "source": [
    "# Remove Stop Words\n",
    "data_words_nostops = remove_stopwords(data_words)\n",
    "\n",
    "# Form Bigrams\n",
    "data_words_bigrams = make_bigrams(data_words_nostops)\n",
    "\n",
    "# Initialize spacy 'en' model, keeping only tagger component (for efficiency)\n",
    "# In terminal type: python -m spacy download en_core_web_sm\n",
    "nlp = spacy.load('en_core_web_sm', disable=['parser', 'ner'])\n",
    "\n",
    "# Do lemmatization keeping only noun, adj, vb, adv\n",
    "data_lemmatized = lemmatization(data_words_bigrams, allowed_postags=['NOUN', 'ADJ', 'VERB', 'ADV'])\n",
    "\n",
    "print(data_lemmatized[:1])"
   ]
  },
  {
   "cell_type": "markdown",
   "id": "d8df2409-dae0-4559-af12-ab5e028880e7",
   "metadata": {},
   "source": [
    "## Create the Dictionary and Corpus needed for Topic Modeling"
   ]
  },
  {
   "cell_type": "code",
   "execution_count": 27,
   "id": "27c81821-b1bb-453d-a9da-10af41a614c8",
   "metadata": {},
   "outputs": [
    {
     "name": "stdout",
     "output_type": "stream",
     "text": [
      "[[(0, 1), (1, 1), (2, 1), (3, 1), (4, 5), (5, 1), (6, 2), (7, 1), (8, 1), (9, 1), (10, 1), (11, 1), (12, 1), (13, 1), (14, 1), (15, 1), (16, 1), (17, 1), (18, 1), (19, 2), (20, 1), (21, 1), (22, 1), (23, 1), (24, 1), (25, 1), (26, 1), (27, 1), (28, 1), (29, 1), (30, 1), (31, 1), (32, 1), (33, 1), (34, 1), (35, 1), (36, 1), (37, 1), (38, 1), (39, 1), (40, 1)]]\n"
     ]
    }
   ],
   "source": [
    "# Create Dictionary\n",
    "id2word = corpora.Dictionary(data_lemmatized)\n",
    "\n",
    "# Create Corpus\n",
    "texts = data_lemmatized\n",
    "\n",
    "# Term Document Frequency\n",
    "corpus = [id2word.doc2bow(text) for text in texts]\n",
    "\n",
    "# View\n",
    "print(corpus[:1])"
   ]
  },
  {
   "cell_type": "markdown",
   "id": "549839f3-65ab-4153-9b68-1681413dba78",
   "metadata": {},
   "source": [
    "Gensim creates a unique id for each word in the document. The produced corpus shown above is a mapping of (word_id, word_frequency).\n",
    "\n",
    "For example, (0, 1) above implies, word id 0 occurs once in the first document. Likewise, word id 1 occurs twice and so on.\n",
    "\n",
    "This is used as the input by the LDA model.\n",
    "\n",
    "Let's see what word a given id corresponds to, pass the id as a key to the dictionary."
   ]
  },
  {
   "cell_type": "code",
   "execution_count": 28,
   "id": "07eb9294-b95d-4a5a-937b-79d7a7a44713",
   "metadata": {},
   "outputs": [
    {
     "data": {
      "text/plain": [
       "'addition'"
      ]
     },
     "execution_count": 28,
     "metadata": {},
     "output_type": "execute_result"
    }
   ],
   "source": [
    "id2word[0]"
   ]
  },
  {
   "cell_type": "code",
   "execution_count": 29,
   "id": "6caad1fd-87e5-4a01-8e9b-9c9b281c6095",
   "metadata": {},
   "outputs": [
    {
     "data": {
      "text/plain": [
       "[[('addition', 1),\n",
       "  ('body', 1),\n",
       "  ('bring', 1),\n",
       "  ('call', 1),\n",
       "  ('car', 5),\n",
       "  ('day', 1),\n",
       "  ('door', 2),\n",
       "  ('early', 1),\n",
       "  ('engine', 1),\n",
       "  ('enlighten', 1),\n",
       "  ('front_bumper', 1),\n",
       "  ('funky', 1),\n",
       "  ('history', 1),\n",
       "  ('host', 1),\n",
       "  ('info', 1),\n",
       "  ('know', 1),\n",
       "  ('late', 1),\n",
       "  ('lerxst', 1),\n",
       "  ('line', 1),\n",
       "  ('look', 2),\n",
       "  ('mail', 1),\n",
       "  ('make', 1),\n",
       "  ('model', 1),\n",
       "  ('name', 1),\n",
       "  ('neighborhood', 1),\n",
       "  ('nntp_poste', 1),\n",
       "  ('park', 1),\n",
       "  ('production', 1),\n",
       "  ('rac_wam', 1),\n",
       "  ('really', 1),\n",
       "  ('rest', 1),\n",
       "  ('see', 1),\n",
       "  ('separate', 1),\n",
       "  ('small', 1),\n",
       "  ('spec', 1),\n",
       "  ('sport', 1),\n",
       "  ('tellme', 1),\n",
       "  ('thank', 1),\n",
       "  ('thing', 1),\n",
       "  ('wonder', 1),\n",
       "  ('year', 1)]]"
      ]
     },
     "execution_count": 29,
     "metadata": {},
     "output_type": "execute_result"
    }
   ],
   "source": [
    "# Human readable format of corpus (term-frequency)\n",
    "[[(id2word[id], freq) for id, freq in cp] for cp in corpus[:1]]"
   ]
  },
  {
   "cell_type": "markdown",
   "id": "aaead36d-fc43-4585-aa2b-a59dc6009536",
   "metadata": {},
   "source": [
    "## Building the topic \n",
    "\n",
    "Now I have everything to run the LDA model. In addition to the corpus and dictionary, I need to provide the number of topics as well.\n",
    "\n",
    "Apart from that, alpha and eta are hyperparameters that affect sparsity of the topics. According to the Gensim docs, both defaults to 1.0/num_topics prior.\n",
    "\n",
    "chunksize is the number of documents to be used in each training chunk. update_every determines how often the model parameters should be updated and passes is the total number of training passes."
   ]
  },
  {
   "cell_type": "code",
   "execution_count": 30,
   "id": "1da72776-e1ea-47e1-a99a-cefc68608564",
   "metadata": {},
   "outputs": [],
   "source": [
    "# Build LDA model\n",
    "lda_model = gensim.models.ldamodel.LdaModel(corpus=corpus,\n",
    "                                           id2word=id2word,\n",
    "                                           num_topics=20, \n",
    "                                           random_state=100,\n",
    "                                           update_every=1,\n",
    "                                           chunksize=100,\n",
    "                                           passes=10,\n",
    "                                           alpha='auto',\n",
    "                                           per_word_topics=True)"
   ]
  },
  {
   "cell_type": "markdown",
   "id": "6ea996e7-34a8-44a2-82a4-af5b55fb0346",
   "metadata": {},
   "source": [
    "## View the topics in LDA model\n",
    "\n",
    "The above LDA model is built with 20 different topics where each topic is a combination of keywords and each keyword contributes a certain weightage to the topic.\n",
    "\n",
    "Let's see the keywords for each topic and the weightage(importance) of each keyword using lda_model.print_topics()."
   ]
  },
  {
   "cell_type": "code",
   "execution_count": 31,
   "id": "529f22bd-471b-4fe1-90ad-a7f2dd15d2f1",
   "metadata": {},
   "outputs": [
    {
     "name": "stdout",
     "output_type": "stream",
     "text": [
      "[(0,\n",
      "  '0.266*\"drive\" + 0.066*\"disk\" + 0.057*\"tape\" + 0.044*\"originator\" + '\n",
      "  '0.033*\"external\" + 0.021*\"bio\" + 0.020*\"compile\" + 0.016*\"super\" + '\n",
      "  '0.016*\"plug\" + 0.014*\"receiver\"'),\n",
      " (1,\n",
      "  '0.040*\"kill\" + 0.029*\"attack\" + 0.029*\"war\" + 0.026*\"soldier\" + '\n",
      "  '0.023*\"village\" + 0.021*\"armenian\" + 0.019*\"death\" + 0.018*\"murder\" + '\n",
      "  '0.016*\"turkish\" + 0.015*\"people\"'),\n",
      " (2,\n",
      "  '0.041*\"map\" + 0.035*\"canadian\" + 0.029*\"encourage\" + 0.024*\"reflect\" + '\n",
      "  '0.023*\"enable\" + 0.022*\"partner\" + 0.022*\"entity\" + 0.021*\"pat\" + '\n",
      "  '0.019*\"au\" + 0.018*\"translate\"'),\n",
      " (3,\n",
      "  '0.031*\"report\" + 0.027*\"week\" + 0.025*\"player\" + 0.021*\"power\" + '\n",
      "  '0.016*\"israeli\" + 0.016*\"national\" + 0.016*\"wire\" + 0.015*\"member\" + '\n",
      "  '0.014*\"center\" + 0.013*\"publish\"'),\n",
      " (4,\n",
      "  '0.060*\"fan\" + 0.040*\"clearly\" + 0.031*\"hot\" + 0.030*\"night\" + 0.028*\"mine\" '\n",
      "  '+ 0.023*\"cap\" + 0.022*\"motto\" + 0.022*\"german\" + 0.022*\"water\" + '\n",
      "  '0.021*\"recall\"'),\n",
      " (5,\n",
      "  '0.096*\"drug\" + 0.056*\"recommend\" + 0.056*\"printer\" + 0.051*\"gateway\" + '\n",
      "  '0.049*\"boy\" + 0.040*\"usenet\" + 0.026*\"ns\" + 0.019*\"sy\" + 0.019*\"radius\" + '\n",
      "  '0.017*\"kit\"'),\n",
      " (6,\n",
      "  '0.039*\"file\" + 0.036*\"window\" + 0.030*\"problem\" + 0.029*\"card\" + '\n",
      "  '0.026*\"use\" + 0.025*\"program\" + 0.025*\"software\" + 0.022*\"run\" + 0.022*\"do\" '\n",
      "  '+ 0.022*\"machine\"'),\n",
      " (7,\n",
      "  '0.026*\"say\" + 0.021*\"people\" + 0.020*\"think\" + 0.018*\"know\" + 0.017*\"make\" '\n",
      "  '+ 0.016*\"see\" + 0.013*\"thing\" + 0.012*\"way\" + 0.011*\"even\" + 0.011*\"come\"'),\n",
      " (8,\n",
      "  '0.054*\"evidence\" + 0.028*\"reason\" + 0.026*\"faith\" + 0.023*\"sense\" + '\n",
      "  '0.023*\"man\" + 0.022*\"child\" + 0.022*\"exist\" + 0.022*\"claim\" + '\n",
      "  '0.020*\"christian\" + 0.020*\"believe\"'),\n",
      " (9,\n",
      "  '0.056*\"electronic\" + 0.045*\"militia\" + 0.044*\"stick\" + 0.035*\"privacy\" + '\n",
      "  '0.028*\"gear\" + 0.025*\"constitution\" + 0.022*\"japanese\" + 0.021*\"flow\" + '\n",
      "  '0.021*\"lift\" + 0.015*\"catalog\"'),\n",
      " (10,\n",
      "  '0.050*\"government\" + 0.047*\"gun\" + 0.046*\"state\" + 0.029*\"law\" + '\n",
      "  '0.025*\"public\" + 0.024*\"right\" + 0.018*\"protect\" + 0.017*\"crime\" + '\n",
      "  '0.016*\"safety\" + 0.016*\"weapon\"'),\n",
      " (11,\n",
      "  '0.668*\"ax\" + 0.036*\"physical\" + 0.032*\"entry\" + 0.014*\"direct\" + '\n",
      "  '0.011*\"telnet\" + 0.009*\"benefit\" + 0.008*\"nhl\" + 0.007*\"max\" + '\n",
      "  '0.007*\"violence\" + 0.006*\"configuration\"'),\n",
      " (12,\n",
      "  '0.140*\"car\" + 0.038*\"self\" + 0.038*\"engine\" + 0.033*\"firearm\" + 0.033*\"eat\" '\n",
      "  '+ 0.031*\"motif\" + 0.023*\"expensive\" + 0.019*\"model\" + 0.018*\"saturn\" + '\n",
      "  '0.016*\"auto\"'),\n",
      " (13,\n",
      "  '0.132*\"key\" + 0.073*\"chip\" + 0.038*\"encryption\" + 0.029*\"clipper\" + '\n",
      "  '0.029*\"master\" + 0.027*\"bit\" + 0.025*\"security\" + 0.024*\"input\" + '\n",
      "  '0.022*\"secure\" + 0.022*\"digital\"'),\n",
      " (14,\n",
      "  '0.117*\"team\" + 0.086*\"space\" + 0.038*\"season\" + 0.029*\"trade\" + '\n",
      "  '0.028*\"earth\" + 0.028*\"wing\" + 0.026*\"launch\" + 0.022*\"mission\" + '\n",
      "  '0.022*\"orbit\" + 0.022*\"moon\"'),\n",
      " (15,\n",
      "  '0.053*\"line\" + 0.033*\"write\" + 0.033*\"organization\" + 0.029*\"get\" + '\n",
      "  '0.026*\"article\" + 0.021*\"nntp_poste\" + 0.019*\"host\" + 0.015*\"good\" + '\n",
      "  '0.013*\"m\" + 0.012*\"year\"'),\n",
      " (16,\n",
      "  '0.053*\"ticket\" + 0.032*\"correctly\" + 0.031*\"classic\" + 0.025*\"conservative\" '\n",
      "  '+ 0.020*\"uunet\" + 0.017*\"row\" + 0.012*\"running\" + 0.011*\"strictly\" + '\n",
      "  '0.010*\"intersection\" + 0.000*\"chance\"'),\n",
      " (17,\n",
      "  '0.020*\"system\" + 0.018*\"use\" + 0.014*\"also\" + 0.012*\"number\" + '\n",
      "  '0.011*\"provide\" + 0.010*\"source\" + 0.010*\"new\" + 0.009*\"include\" + '\n",
      "  '0.009*\"base\" + 0.008*\"support\"'),\n",
      " (18,\n",
      "  '0.049*\"mail\" + 0.043*\"send\" + 0.033*\"list\" + 0.032*\"thank\" + 0.027*\"email\" '\n",
      "  '+ 0.027*\"sale\" + 0.026*\"address\" + 0.025*\"info\" + 0.025*\"computer\" + '\n",
      "  '0.024*\"image\"'),\n",
      " (19,\n",
      "  '0.083*\"speed\" + 0.081*\"slow\" + 0.062*\"scsi\" + 0.060*\"bus\" + 0.054*\"ide\" + '\n",
      "  '0.039*\"fast\" + 0.026*\"modem\" + 0.022*\"mb\" + 0.020*\"data\" + '\n",
      "  '0.019*\"interface\"')]\n"
     ]
    }
   ],
   "source": [
    "# Print the Keyword in the 10 topics\n",
    "pprint(lda_model.print_topics())\n",
    "doc_lda = lda_model[corpus]"
   ]
  },
  {
   "cell_type": "markdown",
   "id": "b6f49b68-e831-4a5d-ac3d-31528de59cfc",
   "metadata": {},
   "source": [
    "## Interpretation\n",
    "\n",
    "Topic 0 is a represented as '0.266*\"drive\" + 0.066*\"disk\" + 0.057*\"tape\" + 0.044*\"originator\" + 0.033*\"external\" + 0.021*\"bio\" + 0.020*\"compile\" + 0.016*\"super\" + 0.016*\"plug\" + 0.014*\"receiver\"'\n",
    "\n",
    "It means the top 10 keywords that contribute to this topic are: ‘drive’, ‘disk’, ‘tape’.. and so on and the weight of ‘drive’ on topic 0 is 0.266.\n",
    "\n",
    "The weights reflect how important a keyword is to that topic.\n",
    "Looking at these keywords, I'd summarize first topic to, maybe, 'biotechnology'.\n",
    "\n",
    "## Perplexity and topic coherence\n",
    "Model perplexity and topic coherence provide a convenient measure to judge how good a given topic model is. \n",
    "\n",
    "Perplexity is a measurement of how well a probability distribution or probability model predicts a sample. A low perplexity indicates the probability distribution is good at predicting the sample.\n",
    "\n",
    "Topic coherence measures score a single topic by measuring the degree of semantic similarity between high scoring words in the topic. "
   ]
  },
  {
   "cell_type": "code",
   "execution_count": 32,
   "id": "c848b05a-5cda-44d0-b162-2c1a9a6bf24c",
   "metadata": {},
   "outputs": [
    {
     "name": "stdout",
     "output_type": "stream",
     "text": [
      "\n",
      "Perplexity:  -13.519608360116582\n",
      "\n",
      "Coherence Score:  0.5206979792104978\n"
     ]
    }
   ],
   "source": [
    "# Compute Perplexity\n",
    "print('\\nPerplexity: ', lda_model.log_perplexity(corpus))\n",
    "\n",
    "# Compute Coherence Score\n",
    "coherence_model_lda = CoherenceModel(model=lda_model, texts=data_lemmatized, dictionary=id2word, coherence='c_v')\n",
    "coherence_lda = coherence_model_lda.get_coherence()\n",
    "print('\\nCoherence Score: ', coherence_lda)"
   ]
  },
  {
   "cell_type": "markdown",
   "id": "32ba2c65-7e94-480e-8e38-6bf3c21fb2ef",
   "metadata": {},
   "source": [
    "## Visualize the topics-keywords\n",
    "\n",
    "Now that the LDA model is built, the next step is to examine the produced topics and the associated keywords. I'm going to use pyLDAvis package’s interactive chart because it is designed to work well with jupyter notebooks."
   ]
  },
  {
   "cell_type": "code",
   "execution_count": 34,
   "id": "69f26b9f-a3d2-4897-a9d6-67b0edfeec29",
   "metadata": {},
   "outputs": [
    {
     "data": {
      "text/html": [
       "\n",
       "<link rel=\"stylesheet\" type=\"text/css\" href=\"https://cdn.jsdelivr.net/gh/bmabey/pyLDAvis@3.3.1/pyLDAvis/js/ldavis.v1.0.0.css\">\n",
       "\n",
       "\n",
       "<div id=\"ldavis_el692421835002464806843467272\"></div>\n",
       "<script type=\"text/javascript\">\n",
       "\n",
       "var ldavis_el692421835002464806843467272_data = {\"mdsDat\": {\"x\": [0.3568280719967756, 0.3330845396927961, 0.2946726177491944, 0.15850551215406372, -0.027634659581297266, 0.13177620969729348, 0.09517857923833976, 0.06576819509734755, 0.038768139823929355, 0.02253520355031486, -0.03879485335503716, -0.07751382540645055, -0.11788196456089833, -0.15030269394070173, -0.1438254821097316, -0.15553759644603946, -0.18568179450461264, -0.19465351419990756, -0.19523110280920428, -0.21005958208617423], \"y\": [-0.049142288922627266, 0.0816984693935531, 0.07771144836321146, 0.23877701499986292, -0.001088024559782538, -0.22845170139735915, 0.14287914307640703, -0.09174099862806402, -0.2286334340801136, -0.20619604185086546, 0.06360613289169244, 0.004613333005737579, 0.036704921841705075, 0.017897279400934996, 0.019711607255196637, 0.0527427185654075, 0.017443229589912856, 0.017535002554266932, 0.01725172308074504, 0.016680465420179452], \"topics\": [1, 2, 3, 4, 5, 6, 7, 8, 9, 10, 11, 12, 13, 14, 15, 16, 17, 18, 19, 20], \"cluster\": [1, 1, 1, 1, 1, 1, 1, 1, 1, 1, 1, 1, 1, 1, 1, 1, 1, 1, 1, 1], \"Freq\": [27.12711693651686, 25.54711450077817, 14.993517650627746, 5.202735768667572, 4.526993760546573, 3.717997480599624, 3.697515839661537, 3.6206400683033912, 2.693554779583463, 1.9982426129707953, 1.4236769929972055, 1.2506609065039547, 1.0546588258718803, 0.7967761010139774, 0.7255532682945643, 0.5245079700721266, 0.36011002308862616, 0.32595830944828413, 0.3059153986114713, 0.10675280584216476]}, \"tinfo\": {\"Term\": [\"ax\", \"line\", \"organization\", \"drive\", \"people\", \"write\", \"say\", \"get\", \"key\", \"article\", \"use\", \"nntp_poste\", \"problem\", \"state\", \"right\", \"system\", \"year\", \"car\", \"evidence\", \"host\", \"team\", \"reason\", \"think\", \"mail\", \"file\", \"thank\", \"believe\", \"window\", \"run\", \"post\", \"say\", \"talk\", \"wrong\", \"feel\", \"accept\", \"whole\", \"speak\", \"perhaps\", \"patient\", \"discussion\", \"belief\", \"truth\", \"god\", \"mind\", \"pin\", \"atheist\", \"hell\", \"one\", \"white\", \"learn\", \"exactly\", \"picture\", \"sort\", \"dept\", \"ride\", \"forget\", \"obviously\", \"realize\", \"choice\", \"flame\", \"thing\", \"religion\", \"tell\", \"even\", \"show\", \"love\", \"people\", \"think\", \"see\", \"never\", \"way\", \"always\", \"point\", \"mean\", \"fact\", \"happen\", \"come\", \"many\", \"seem\", \"question\", \"ask\", \"know\", \"make\", \"rather\", \"take\", \"try\", \"cause\", \"course\", \"give\", \"find\", \"believe\", \"time\", \"right\", \"go\", \"well\", \"s\", \"write\", \"want\", \"nntp_poste\", \"host\", \"organization\", \"game\", \"lot\", \"buy\", \"play\", \"big\", \"win\", \"money\", \"lose\", \"pay\", \"sell\", \"sound\", \"bike\", \"graphic\", \"cheap\", \"guy\", \"pick\", \"nice\", \"hit\", \"engineering\", \"division\", \"job\", \"watch\", \"score\", \"family\", \"advice\", \"minute\", \"steal\", \"line\", \"old\", \"last\", \"move\", \"get\", \"university\", \"d\", \"article\", \"distribution_world\", \"look\", \"reply\", \"write\", \"next\", \"back\", \"year\", \"m\", \"good\", \"need\", \"go\", \"want\", \"well\", \"new\", \"ve\", \"work\", \"time\", \"much\", \"know\", \"first\", \"provide\", \"require\", \"science\", \"research\", \"copy\", \"reference\", \"level\", \"value\", \"contain\", \"section\", \"server\", \"particular\", \"process\", \"method\", \"special\", \"develop\", \"knowledge\", \"object\", \"perform\", \"development\", \"period\", \"indicate\", \"material\", \"scientific\", \"feature\", \"intend\", \"bill\", \"site\", \"obtain\", \"addition\", \"source\", \"test\", \"detail\", \"note\", \"produce\", \"base\", \"general\", \"allow\", \"system\", \"form\", \"support\", \"result\", \"number\", \"standard\", \"use\", \"include\", \"technology\", \"datum\", \"also\", \"information\", \"group\", \"new\", \"rule\", \"order\", \"follow\", \"part\", \"case\", \"issue\", \"program\", \"file\", \"window\", \"card\", \"software\", \"machine\", \"memory\", \"color\", \"screen\", \"mode\", \"video\", \"monitor\", \"function\", \"instal\", \"package\", \"brain\", \"notice\", \"internal\", \"switch\", \"pc\", \"fix\", \"manager\", \"motherboard\", \"ram\", \"directory\", \"load\", \"blank\", \"font\", \"crash\", \"resolution\", \"background\", \"version\", \"driver\", \"character\", \"hardware\", \"port\", \"application\", \"program\", \"do\", \"problem\", \"set\", \"run\", \"error\", \"bit\", \"use\", \"system\", \"com\", \"work\", \"help\", \"try\", \"ax\", \"physical\", \"entry\", \"direct\", \"telnet\", \"benefit\", \"nhl\", \"max\", \"violence\", \"configuration\", \"icon\", \"daughter\", \"implementation\", \"human_being\", \"terminal\", \"cs_dept\", \"film\", \"chief\", \"soft\", \"fancy\", \"plot\", \"download\", \"thanx\", \"appreciated\", \"dry\", \"neat\", \"sister\", \"worthless\", \"maintenance\", \"login\", \"evidence\", \"faith\", \"christian\", \"argument\", \"human\", \"church\", \"conclusion\", \"bible\", \"reality\", \"christianity\", \"society\", \"revelation\", \"nature\", \"moral\", \"atheism\", \"concept\", \"universe\", \"bomb\", \"animal\", \"interpretation\", \"reject\", \"context\", \"link\", \"justify\", \"baby\", \"tradition\", \"morality\", \"somehow\", \"religious\", \"challenge\", \"child\", \"objective\", \"sense\", \"authority\", \"debate\", \"exist\", \"man\", \"claim\", \"reason\", \"act\", \"prove\", \"law\", \"believe\", \"explain\", \"woman\", \"life\", \"other\", \"word\", \"mail\", \"email\", \"sale\", \"info\", \"image\", \"cpu\", \"advance\", \"display\", \"fax\", \"send\", \"faq\", \"distribution\", \"list\", \"request\", \"controller\", \"sun\", \"format\", \"update\", \"upgrade\", \"mit\", \"procedure\", \"clock\", \"frame\", \"probe\", \"cambridge\", \"floppy\", \"archive\", \"greatly_appreciate\", \"locate\", \"rob\", \"page\", \"address\", \"manual\", \"phone\", \"offer\", \"interested\", \"contact\", \"computer\", \"book\", \"thank\", \"message\", \"available\", \"receive\", \"post\", \"information\", \"include\", \"report\", \"week\", \"player\", \"israeli\", \"national\", \"wire\", \"ground\", \"meet\", \"health\", \"air\", \"mount\", \"proof\", \"trial\", \"purchase\", \"weight\", \"significant\", \"rational\", \"arab\", \"scripture\", \"medical\", \"propose\", \"flight\", \"impact\", \"primarily\", \"prior\", \"battery\", \"requirement\", \"imply\", \"principle\", \"european\", \"community\", \"publish\", \"member\", \"international\", \"effort\", \"power\", \"center\", \"cover\", \"plan\", \"year\", \"service\", \"gun\", \"weapon\", \"police\", \"license\", \"legal\", \"criminal\", \"freedom\", \"cop\", \"official\", \"waste\", \"library\", \"protection\", \"resource\", \"dangerous\", \"cycle\", \"ensure\", \"trick\", \"ban\", \"solid\", \"immediate\", \"officer\", \"restriction\", \"penalty\", \"touch\", \"focus\", \"lawyer\", \"ammunition\", \"second_amendment\", \"handgun\", \"packet\", \"crime\", \"safety\", \"government\", \"protect\", \"arm\", \"state\", \"fire\", \"law\", \"public\", \"private\", \"carry\", \"country\", \"right\", \"kill\", \"person\", \"war\", \"soldier\", \"village\", \"armenian\", \"turkish\", \"population\", \"withdraw\", \"occupy\", \"turk\", \"civilian\", \"terrorism\", \"girl\", \"minority\", \"inhabitant\", \"islamic\", \"invasion\", \"escape\", \"relation\", \"troop\", \"proceed\", \"muslim\", \"british\", \"army\", \"preach\", \"genocide\", \"moslem\", \"slaughter\", \"holocaust\", \"territory\", \"massacre\", \"attack\", \"kill\", \"murder\", \"land\", \"death\", \"force\", \"jewish\", \"military\", \"country\", \"woman\", \"city\", \"child\", \"people\", \"government\", \"listen\", \"key\", \"chip\", \"encryption\", \"clipper\", \"master\", \"secure\", \"digital\", \"secret\", \"signal\", \"distribution_usa\", \"output\", \"circuit\", \"past\", \"registration\", \"register\", \"amp\", \"compression\", \"investigation\", \"vendor\", \"ray\", \"voltage\", \"volt\", \"cult\", \"preferably\", \"hunt\", \"garage\", \"scope\", \"accuracy\", \"access_digex\", \"online_communication\", \"input\", \"security\", \"device\", \"block\", \"bit\", \"listen\", \"public\", \"phone\", \"datum\", \"technology\", \"access\", \"team\", \"season\", \"trade\", \"wing\", \"launch\", \"mission\", \"orbit\", \"moon\", \"star\", \"pen\", \"satellite\", \"plane\", \"rocket\", \"devil\", \"shuttle\", \"mar\", \"export\", \"sky\", \"astronomy\", \"penguin\", \"leafs\", \"lunar\", \"spacecraft\", \"radiation\", \"brave\", \"captain\", \"solar\", \"ozone\", \"distant\", \"planetary\", \"space\", \"earth\", \"planet\", \"year\", \"car\", \"self\", \"engine\", \"firearm\", \"eat\", \"motif\", \"expensive\", \"saturn\", \"auto\", \"specify\", \"reliable\", \"production\", \"factory\", \"truck\", \"french\", \"tire\", \"closed\", \"motor\", \"belt\", \"resurrection\", \"rear\", \"bolt\", \"quit\", \"roughly\", \"turbo\", \"tight\", \"porsche\", \"grief\", \"timing\", \"leak\", \"cylinder\", \"accident\", \"mile\", \"model\", \"road\", \"drive\", \"automatic\", \"speed\", \"driver\", \"light\", \"fan\", \"clearly\", \"hot\", \"night\", \"mine\", \"cap\", \"motto\", \"german\", \"water\", \"oil\", \"pitch\", \"cool\", \"nuclear\", \"cold\", \"offense\", \"heat\", \"specification\", \"hr\", \"diet\", \"hitler\", \"era\", \"caltech\", \"schneider\", \"significance\", \"deficit\", \"starter\", \"expense\", \"netcom\", \"counter\", \"line_communication\", \"recall\", \"expansion\", \"disk\", \"tape\", \"originator\", \"external\", \"bio\", \"compile\", \"super\", \"plug\", \"receiver\", \"bank\", \"gun_control\", \"boot\", \"honor\", \"forsale\", \"brand\", \"simms\", \"meg\", \"exe\", \"diagnostic\", \"simm\", \"shareware\", \"approximately\", \"brand_new\", \"closely\", \"hatred\", \"powerbook\", \"md\", \"mask\", \"atf\", \"ghost\", \"drive\", \"slow\", \"scsi\", \"bus\", \"ide\", \"modem\", \"mb\", \"module\", \"space_station\", \"operator\", \"io\", \"ssf\", \"synchronous\", \"scsi_controller\", \"foster\", \"stall\", \"arrow\", \"optimize\", \"esdi\", \"las_cruce\", \"speed\", \"data\", \"fasst\", \"mb_burst\", \"quadra\", \"interface\", \"fast\", \"transfer\", \"performance\", \"wide\", \"device\", \"datum\", \"rate\", \"bit\", \"port\", \"compare\", \"standard\", \"drug\", \"recommend\", \"printer\", \"gateway\", \"boy\", \"usenet\", \"ns\", \"sy\", \"radius\", \"kit\", \"compound\", \"suck\", \"narrow\", \"soc_religion\", \"space_dig\", \"original_sender\", \"tc\", \"designer\", \"in\", \"added_forwarde\", \"sez\", \"qwk\", \"hurry\", \"sabbath_admission\", \"ns_simms\", \"c\", \"_\", \"rlk\", \"umu\", \"dy\", \"sphere\", \"electronic\", \"militia\", \"stick\", \"privacy\", \"gear\", \"constitution\", \"japanese\", \"flow\", \"lift\", \"catalog\", \"computing\", \"rev\", \"indication\", \"repost\", \"political_atheist\", \"mailing_list\", \"handy\", \"mailing\", \"pedal\", \"throttle\", \"automatic_transmission\", \"automate\", \"eliot\", \"blir\", \"cryptology\", \"engineer\", \"well_regulate\", \"dimmer\", \"gaskin\", \"ron\", \"ripem\", \"shift\", \"amendment\", \"map\", \"canadian\", \"encourage\", \"reflect\", \"enable\", \"partner\", \"entity\", \"pat\", \"au\", \"translate\", \"australia\", \"angel\", \"postscript\", \"arbitrary\", \"rebel\", \"electron\", \"scene\", \"beauty\", \"thick\", \"triangle\", \"lunch\", \"required\", \"poverty\", \"union\", \"arrival\", \"propulsion\", \"console\", \"chris_behanna\", \"jubilees_re\", \"wide_glide\", \"scale\", \"ticket\", \"correctly\", \"classic\", \"conservative\", \"uunet\", \"row\", \"running\", \"strictly\", \"intersection\", \"la_vs\", \"cleveland\", \"chp\", \"top_ten\", \"ossibly\", \"purgere\", \"queernet\", \"yore\", \"squaw\", \"subsidize\", \"anytime\", \"sunnyvale_ca\", \"roger_collin\", \"streak\", \"beleive\", \"libertarian\", \"products_sector\", \"duke\", \"whore\", \"calgary\", \"secondly\", \"tor\", \"chance\", \"playoff\", \"aid\", \"winner\", \"print\", \"accord\", \"judge\"], \"Freq\": [39423.0, 17893.0, 10877.0, 2716.0, 8106.0, 14008.0, 9078.0, 10462.0, 2445.0, 9683.0, 6452.0, 6871.0, 4174.0, 2994.0, 3989.0, 5308.0, 4912.0, 1919.0, 2616.0, 6300.0, 1907.0, 3347.0, 7698.0, 2375.0, 2638.0, 3229.0, 3481.0, 2409.0, 3267.0, 2982.0, 9077.612759021647, 1811.401459441535, 1497.5521928479848, 1273.391430775666, 1110.256119303934, 1095.410431194023, 1070.016311219546, 1068.598982982172, 1014.1856455884073, 1010.6570176652996, 1003.4771994318696, 993.1686243815034, 988.0326924052449, 973.4088348081236, 947.1538148955145, 859.2668704608968, 813.5338145353082, 1354.6921079333383, 680.154123704634, 643.5962494172204, 608.0665328052257, 596.5691272924404, 593.8403650494932, 584.8013684144389, 549.8709645904297, 548.5122012546697, 525.264610449961, 518.6007230715087, 502.1150119367091, 496.82433362870876, 4620.68957783325, 1166.5832078748253, 3300.6572734230695, 4004.5153661432328, 1935.2979575843651, 1155.1055572129005, 7578.23274859778, 7131.773119146761, 5713.0692856577325, 2379.0510078437164, 4089.200790060244, 1151.1159827697109, 3648.7782430322436, 2871.1364408425266, 2168.7584803230984, 1754.1785706959909, 3954.779236626366, 3460.6821013149115, 2704.484025110689, 3063.6919108941393, 2218.0570398934015, 6404.260568006038, 5928.560466806091, 1488.8116590846837, 3500.6171908247734, 3208.564768175852, 1451.7441508010043, 1807.78418162519, 3034.212076202284, 2867.859440332257, 2518.3692949346814, 3617.8944969392237, 2614.0010463373437, 3549.0946070943014, 2976.5568854704056, 2335.261911554696, 2867.760995325468, 2266.4984035601087, 6870.315103129004, 6298.859156888765, 10871.713521947893, 2299.3870522502407, 2032.0716970228445, 1774.669611921888, 1600.6708069346266, 1524.2566752768762, 1463.9612585249106, 1399.8125932708253, 1338.829594757095, 1319.776525847946, 1312.1090977510269, 1126.9649567386236, 887.7675096130489, 838.9575764364646, 833.6273061881595, 770.0422719363056, 730.7966243211707, 729.8790476228608, 707.6162819349483, 682.7558990162879, 673.0575078801088, 660.6135182749392, 634.6544386144104, 591.0419491530101, 556.7177435774378, 543.5977998614917, 541.6227658234845, 508.4286516474485, 17625.308714104587, 2093.6732865691433, 2234.7745212394025, 1072.8387840125931, 9717.378625136678, 2137.8989795848206, 1940.0058169229926, 8512.179731842989, 1291.9408595944428, 3665.2678344075066, 3120.6773432223217, 11139.69397881181, 1622.6901671285207, 2481.138554775001, 4054.3253156220053, 4435.44870794359, 5091.75828996411, 3132.9781576849905, 4043.324937645849, 2433.7400633930292, 2575.3921386494326, 2238.6491646193404, 1892.7718180436664, 2240.196107306801, 2370.0577444612413, 1994.7776343495573, 2346.9632141393113, 1916.343857232842, 2148.3988744894646, 1514.5382593618247, 1379.8015681696793, 1356.5844451488795, 1308.0850960587063, 1081.7527682004609, 997.0200323732158, 952.3506232513432, 921.3229412911031, 838.4330205873491, 818.8222757534635, 812.3326148117382, 749.6927328271041, 682.2863080265095, 599.6434699509015, 595.8825456973675, 579.5669031634922, 578.6437213018943, 556.7268416087343, 534.5393584406686, 530.3391812365272, 524.2067459983928, 517.6457491036325, 511.4791927144929, 503.0406226170841, 485.7524817846914, 482.86824363765214, 480.478944159661, 453.53369868516023, 451.9479295659085, 1988.037107902645, 1304.986167629542, 647.3428372820396, 1337.9101666780496, 816.8899267297345, 1667.2773608140726, 1039.3677473909554, 1501.0908862763183, 3882.927659088832, 784.421786258657, 1590.4743804804461, 1130.100983339115, 2257.7598021636145, 1000.7424224735478, 3558.7119398469763, 1704.1707870961902, 1184.210213613494, 1135.132078812536, 2768.282101319316, 1477.2106300594485, 1540.0586055703466, 1894.2638138845225, 994.5739552999519, 1283.14763009909, 1327.1079562082057, 1286.6278965118888, 1293.395622086873, 1144.580907948908, 1082.7803152892668, 2637.77769772333, 2408.131096279749, 1961.1588242233865, 1663.6214412844026, 1496.264383064869, 1083.7736172093412, 1023.0136132674828, 952.539563565694, 858.6951740826677, 835.895933024414, 774.7052054658511, 748.2780604013082, 734.9078209150646, 719.3830792915484, 636.7436922190909, 580.7505061012729, 560.2468369002329, 512.7888424390692, 428.7660059667337, 424.37699482774565, 421.58603713663, 392.53025296427853, 377.8611175047465, 373.05104419361584, 363.59207951412503, 338.4863737935146, 327.2106155095374, 323.3386179479965, 287.49181702252275, 273.5513944403941, 1109.9667406167216, 1423.4897097701482, 636.7639623086617, 785.3302686159286, 469.83011324895114, 796.8611711270418, 1727.2837936899712, 1497.1238096039904, 2056.324179450122, 1182.2074454459898, 1503.3859412007268, 615.8481977663796, 1037.2610235145592, 1746.2846346614338, 1411.350515131823, 773.3519717602398, 978.1833107136802, 814.5342265115753, 665.1137979876916, 39422.46981983596, 2125.3649066677453, 1884.886142656272, 846.0552909307795, 633.1298880423586, 530.5245230893954, 485.0718700970753, 396.0034054034055, 392.32406347885933, 366.07746104691665, 364.9672134123915, 351.41017578353615, 326.799178309629, 306.69029776846816, 300.3576582282429, 263.32651912081735, 259.95190257578156, 237.98612579169918, 215.68563735405885, 203.20182811622968, 189.95468070382552, 175.18363166850025, 169.98200900071126, 163.49379248391122, 149.72152126456052, 138.96713569834674, 138.15732772757252, 135.17609043868615, 126.69511224762948, 125.22927383148762, 2615.3818930435173, 1247.9795281609115, 990.8514600334412, 912.6451932338281, 695.3159227122406, 688.1307619994543, 582.3983766378979, 551.2805351157675, 516.076388400796, 508.6285034399701, 471.04602990111084, 430.5665950858188, 419.1347960896236, 397.7951521646572, 340.98121403057837, 340.0307226467831, 329.7108537147957, 324.15091007400224, 306.4637288615177, 283.25602167066893, 281.8381816652967, 260.4799232174316, 256.60936598575097, 253.92596405384697, 194.29464454910948, 193.88629832435691, 190.23500889089408, 184.80366339950814, 553.3233492663172, 167.26843310152228, 1074.9933453905307, 278.06525478583757, 1129.1704968706556, 381.6034955664423, 234.8701979917331, 1062.0712112834196, 1102.7390476335047, 1055.0725116824333, 1340.4736258458336, 498.16903686777135, 525.1896075508438, 730.6034624897984, 962.06054668894, 448.7873474952835, 391.123662031643, 467.19465126878043, 411.26245488059095, 401.17739969382404, 2374.292193134626, 1318.25031413104, 1277.6366017483913, 1211.615926716086, 1141.3334125362426, 1027.3987081888251, 907.8645451497008, 786.8905315618578, 759.011625017284, 2074.8876487502903, 701.3644680775864, 672.8740603618107, 1609.4622866081697, 595.9965693278671, 583.9170202489818, 574.4175699030143, 571.8297522356003, 428.718103777497, 418.1574345708653, 351.7784124923215, 309.1451665557865, 254.27662408589273, 237.99220787890567, 210.40237991897138, 206.5958457129001, 203.48616973275148, 196.41562573413154, 191.91164989429774, 175.6150830971079, 164.0633722613155, 683.7359924014293, 1246.9967400405503, 399.2217214357372, 840.740960034946, 725.4964602095675, 767.2338160917429, 559.6957667175055, 1181.1938107650828, 1051.7339955142265, 1553.8111025211342, 937.5076770019427, 779.7295144705369, 692.2605233695024, 990.0314360472408, 878.1821005845591, 797.0053874238014, 1448.4720036580313, 1264.2979226297502, 1178.713872491974, 764.8199931204795, 748.4070855935568, 731.6172224135921, 563.3013818275175, 496.5414282731758, 493.29889775662116, 454.978310273222, 454.47892533020865, 450.39991185076593, 448.08707051534384, 433.2031668345323, 417.0918501967244, 371.6408771564433, 352.0943115343242, 331.7211504547886, 328.6803909665554, 318.46022586653606, 316.519154736842, 311.175661141002, 305.54663835937987, 294.6953427989982, 292.5532696691859, 292.1357972159452, 289.3508384803767, 288.12140407781726, 279.8403545786321, 277.689294804958, 577.8658531648967, 605.8368151433033, 722.4039129818517, 356.06966001195696, 382.63683790799007, 996.0636977514276, 654.418523971608, 523.2375172683228, 415.23207633424033, 565.5486140710776, 393.087491746667, 1657.4517115025455, 549.8775259019104, 544.3523738898582, 501.4320070622797, 455.6334481221065, 418.79978791213045, 386.8118368914116, 384.33085549415927, 366.76776688923775, 343.7184300377996, 323.24380323553856, 314.33111401253495, 312.80664217161893, 294.7530065063096, 283.7991772822854, 279.28071741488645, 222.89101696064853, 212.98474518120995, 206.58654690140318, 191.9579627923831, 184.286761381324, 182.94477762378588, 180.5321883925003, 177.30739315199946, 167.2484649581336, 163.47569873778002, 157.5616888776916, 153.77924575431405, 149.4506133781608, 148.58480844155426, 592.1170114481363, 559.1918066004092, 1769.8722170008955, 632.3792049379558, 313.5219810738746, 1618.023562438225, 546.9476800502013, 1034.0248187824077, 873.0629407969057, 427.867732582637, 467.71620577594155, 434.9359583201345, 854.2839950961572, 379.10784516368676, 357.48117651797315, 753.0028619982543, 685.5504101212615, 594.0675599385585, 535.8126074504287, 415.8985872427211, 373.9256315565878, 368.94213083954486, 366.4446446251959, 359.3940772852239, 307.86887226016853, 260.03156787475433, 245.6506495464968, 232.75125548495885, 203.54333174076777, 202.4321157814575, 189.58230716279206, 188.4845031623512, 187.14726052911084, 178.29456732333315, 177.17816120272443, 169.43235477965996, 168.15133080945623, 162.66557284788107, 160.89225965320898, 160.82444801306642, 148.3940965890596, 143.2331238846264, 132.63656073565485, 131.68720990020418, 120.75891298375413, 760.1910898780866, 1045.0350969513968, 472.23254947007433, 318.88911264149, 506.39031064213884, 385.44342408294665, 277.18512372545, 282.51272728596314, 338.8034220004357, 260.80829734085074, 260.06510989847294, 289.04398745900653, 397.9042737678545, 260.4593681324348, 194.1416577122266, 2444.2621102510616, 1360.4128204584247, 706.0692099565649, 538.9963282498325, 531.0129382072114, 410.91819162353755, 410.1024280051517, 381.2459952475491, 335.99000088413464, 290.57040453091133, 250.048880340257, 246.80322628958422, 240.83237572235808, 188.50876848741368, 153.73517246532424, 145.4131048772602, 135.32730485343555, 134.89492940033114, 130.20897133006244, 109.99535625936491, 108.08491251240105, 96.6518929555775, 85.27228423002761, 81.91955796454168, 79.03497564803092, 78.10577233138831, 77.77730695070846, 73.59428503542254, 70.04870264316678, 63.937534167380974, 445.42020626900825, 470.18185470753946, 408.46554413373275, 347.74646613658956, 507.8556191250167, 166.90943523212303, 263.05366609860147, 204.36285189146304, 147.895265696025, 133.4838795176962, 125.3832914928319, 1905.9969395019477, 614.1990420565589, 478.3827114582976, 450.60349627846915, 418.39859687412485, 365.63286682678535, 361.7036748014197, 355.2222870009551, 347.0328373129648, 323.63993064637083, 307.37408843986776, 270.2572739768635, 214.62557200642948, 191.44009367239602, 183.47405636630293, 181.90019673916274, 174.11156264731295, 173.78360881453068, 170.28794428114662, 156.50756861813366, 150.52285517122772, 143.82518936986136, 141.26308135903884, 138.0160727726488, 130.98491260857816, 128.67877708015357, 128.21974797099662, 113.0749826607314, 101.82460270429421, 101.36539144072887, 1406.891310336251, 464.44449900040985, 152.24709844203252, 204.00893000610168, 1918.206659355707, 526.9473266543739, 520.9238689662047, 454.282071939927, 447.6464888126039, 421.4317496583686, 309.2661504406159, 252.55978164221756, 224.38544744452108, 221.79163309933853, 191.8083799046945, 188.1092324003539, 180.81846256291678, 156.5475736949247, 150.08597653516705, 113.5603798974073, 113.43239934239558, 104.8264942557182, 98.83995994331727, 95.38947079778646, 90.68614699925881, 90.04180881088638, 86.30875247575702, 86.14325971665829, 84.0896441514367, 84.05268877412935, 79.36928273351312, 72.9501644167047, 70.59554237507776, 63.68459240444479, 149.01466741233838, 154.40390579878616, 193.99746438506804, 264.33463273407716, 139.66128317689578, 204.1374592512393, 92.9073482242337, 121.32417088400906, 119.9134278366709, 109.39654444467347, 626.4271584639876, 420.30898024203157, 317.7777919642213, 307.1363176876509, 294.7526391409387, 238.1089609754087, 231.6281049895874, 231.05664759907032, 230.81089732478918, 216.3078209104986, 210.8724383487283, 207.59662548829073, 199.10433464693548, 198.4622815928637, 183.33910447467517, 176.2723238226275, 156.26650884702434, 151.9509959339251, 119.38365936328499, 117.904303056899, 115.60918968154125, 106.96900576035833, 104.95662318221777, 103.48179273481036, 98.39552023527635, 97.36384681285448, 97.22779059497076, 90.43453429196163, 86.78514465301468, 80.6309241647583, 217.25602704906558, 95.9909352282146, 625.0300706927331, 542.4098455321375, 415.3459299116851, 313.4304214305521, 202.8060290078784, 187.93166560429125, 153.62478317831625, 147.22112263131416, 134.320632022065, 130.5866127221409, 115.37935763468893, 110.57455818006773, 98.70994878516449, 97.32771121882432, 93.23358910062073, 90.75334263278408, 76.37508488239543, 67.15858559423235, 63.174197439116426, 62.91717990868738, 55.715876472545396, 55.32046962906583, 55.224024210260275, 54.20970936102165, 53.71646572034251, 37.75735994406008, 37.198083069915505, 30.397928114676503, 30.19385121121096, 26.918533262405646, 2511.667525799114, 553.6111028581299, 426.5700186856536, 408.3254158232323, 368.1016736128861, 177.87329803934256, 152.53897592199388, 76.01434887334743, 69.84947220628521, 55.64099171534728, 31.940233288459748, 28.11977722871458, 26.641631426280064, 19.50621338546793, 16.110523354835536, 12.960656473871982, 11.09194313473582, 8.914831426058296, 8.272115259974102, 7.9181215530776425, 569.2943328566956, 136.99699613742996, 2.389904538563206, 2.24668920037552, 32.596058770533816, 126.46734907752831, 268.52737726828065, 107.32537319067333, 123.18556701873364, 54.757528539372046, 94.98879543661877, 76.83455884370149, 42.38693372571233, 61.59134477904573, 24.696055829558485, 19.57278171858782, 13.318960005668355, 451.06919108549005, 262.90072633040785, 261.78251852025784, 238.94768704107193, 228.06315082076244, 185.60482124887577, 120.21449884844559, 90.22260415512191, 89.5800455129964, 80.03924682064391, 79.3557956196075, 73.68321621196979, 37.05388576750524, 29.173630481029548, 27.616664657567277, 26.59483583593205, 25.579759793638132, 22.832565255180448, 21.16911094248079, 18.85084682876001, 15.407813345027654, 15.358180416868997, 13.742559383853049, 8.894133748485128, 6.860367069389032, 0.04367054685388058, 0.04366883526880532, 0.0436672730739486, 0.04366211697726303, 0.04365862551444118, 0.04366027734342902, 238.93478280736485, 189.53685798155982, 187.72805634008557, 147.48276182003298, 118.60396124330504, 106.85029535082587, 94.57174133623722, 89.04249831357286, 88.71584077353987, 65.19110160102045, 64.71852663475651, 64.30911279176826, 62.847157303673455, 61.104266361464674, 51.622185421220564, 50.05704764335732, 43.93013779368027, 28.74113781280296, 20.72818103934928, 20.56189499155962, 17.02108598132674, 13.907837026558454, 8.38374896434685, 6.5327373752052775, 4.430243433891892, 9.052146161055976, 0.04618159520678377, 0.04618115090423371, 0.0461811277232311, 0.046181135450231975, 0.04618632026781609, 0.04618174588330074, 0.046181378850759396, 162.38322111888817, 140.3520644623755, 116.88937629827508, 95.28295992260534, 90.35702863048877, 87.9860441283482, 87.18242604152091, 85.25511048738882, 77.03784858779696, 70.78774972292189, 69.85173492879966, 62.54356144155586, 58.74344029065881, 49.33546571904044, 48.32596774487239, 41.93099662902323, 37.09082356082251, 36.90126955608805, 29.17886346318346, 24.620994126236564, 22.37338755293954, 20.16781168037107, 19.071033168921566, 15.86674732580402, 15.780116556422522, 13.492936333298637, 13.283232097746703, 12.082950201033569, 11.838218834474748, 11.835550144885646, 20.558582095404322, 74.2433838843613, 44.235976924257756, 43.09895186947093, 35.2469811501225, 27.142692061314698, 24.01045786099109, 17.344267385064413, 14.88000738532168, 13.337020786302892, 0.021173263312299382, 0.021173146903439757, 0.02117280147280195, 0.021172767309332274, 0.021172690125197086, 0.021172690125197086, 0.021172690125197086, 0.021172690125197086, 0.02117268379862863, 0.021172764778704892, 0.021172697717079237, 0.021172680002687554, 0.021172667349550638, 0.02117268379862863, 0.021172690125197086, 0.02117278755435134, 0.021172593961356526, 0.021172615471689284, 0.021172593961356526, 0.021172540818181478, 0.0211727179620983, 0.02117268379862863, 0.021173273434808917, 0.021172988739228304, 0.021172883718191902, 0.02117274579899952, 0.021172836901585314, 0.021172736941803678, 0.021172697717079237], \"Total\": [39423.0, 17893.0, 10877.0, 2716.0, 8106.0, 14008.0, 9078.0, 10462.0, 2445.0, 9683.0, 6452.0, 6871.0, 4174.0, 2994.0, 3989.0, 5308.0, 4912.0, 1919.0, 2616.0, 6300.0, 1907.0, 3347.0, 7698.0, 2375.0, 2638.0, 3229.0, 3481.0, 2409.0, 3267.0, 2982.0, 9078.802492155372, 1812.5911925752594, 1498.741925981709, 1274.5811639093904, 1111.4458524376582, 1096.6001643277473, 1071.2060443532703, 1069.7887161158962, 1015.3753787628553, 1011.8467508045022, 1004.666932565594, 994.3583575152278, 989.2224255444779, 974.598567941848, 948.3435481245498, 860.4566035946212, 814.7235476690327, 1356.8316072157565, 681.3438568437227, 644.7859825509448, 609.2562659389502, 597.7588604261648, 595.0300981832177, 585.9911015614813, 551.0606977241541, 549.7019343883941, 526.4543435836854, 519.7904562052331, 503.3047450704335, 498.0140667661391, 4642.1110186962205, 1169.5732474485044, 3353.8677394830297, 4128.171994473612, 1969.396750804079, 1170.5423539284575, 8106.915083481785, 7698.102065775758, 6152.546761420096, 2517.721549821244, 4436.256985464759, 1184.9325080645224, 4005.2202871374416, 3140.977449697092, 2342.770198565775, 1860.4544937046649, 4792.389342646444, 4135.786614969194, 3116.4323782584333, 3613.5143460604304, 2523.63889606419, 8752.340986150079, 8384.085253429157, 1588.2401954143365, 4739.418220790215, 4268.631055473625, 1564.5466314992002, 2097.0050804103025, 4231.878859617706, 4062.9570423106934, 3481.5621770698895, 6533.66733835928, 3989.8273645455797, 7593.536748744881, 5612.234021615517, 3950.2843598133954, 14008.572178142009, 4717.009079772137, 6871.503464104926, 6300.215369979002, 10877.20661583426, 2300.57541322987, 2033.2600579987668, 1775.8579728978102, 1601.8591679105489, 1525.4450362527984, 1465.1496195008328, 1401.0009542467476, 1340.0179557367233, 1320.9648868238683, 1313.2974587269491, 1128.153317714546, 888.9558705889712, 840.1459374255734, 834.8156671640818, 771.2306329122279, 731.9849853002014, 731.067408598783, 708.8046429108706, 683.946289389798, 674.2458689013055, 661.8018792508615, 635.8427995903327, 592.2303101326384, 557.9061045727152, 544.7861608451223, 542.8111268031128, 509.61701263180794, 17893.366361877783, 2124.6399184837246, 2285.2218164697865, 1087.9679167274755, 10462.72256006957, 2231.842143914478, 2028.7313087863715, 9683.287855496008, 1345.0845345684668, 4097.772929135456, 3481.8894277051118, 14008.572178142009, 1746.9655249589468, 2793.415834565965, 4912.891860337961, 5611.82273644135, 6797.231714498674, 4865.890537265203, 7593.536748744881, 4717.009079772137, 5612.234021615517, 4195.203318891561, 2910.7861855488954, 4854.375526241401, 6533.66733835928, 3751.5405632811144, 8752.340986150079, 3915.7093063812567, 2149.5810871236117, 1515.7204719990796, 1380.9837808038258, 1357.766657783026, 1309.2673109060956, 1082.9349808346074, 998.2022450073625, 953.5328358854899, 922.5051539252498, 839.6152332357276, 820.0044883876102, 813.5148274458849, 750.8749454612508, 683.4685206606562, 600.8256825850482, 597.0647583315142, 580.7491158026628, 579.825933936041, 557.9090542536977, 535.7215710748153, 531.5213938743799, 525.3889586362454, 518.8279617377792, 512.6614053486396, 504.22283648366033, 486.9346944268196, 484.0504562717988, 481.66115679380766, 454.7159113193069, 453.13014220005516, 2004.9182277554496, 1313.4188427769666, 651.7670965512252, 1405.5030425298646, 843.2285910550117, 1824.0445578820297, 1125.8997453399963, 1699.816825293055, 5308.663820756071, 835.6761713410243, 2066.6959062449628, 1352.2302981737273, 3272.6189269762576, 1188.8011628783916, 6452.971806049085, 2502.2877076416607, 1537.507941974433, 1454.4698293419317, 6181.2417488412675, 2374.8055212281765, 2780.0932397866727, 4195.203318891561, 1244.9975249167978, 2171.605778910741, 2449.30559670862, 2420.0782124968673, 3175.3717598915314, 2108.9573661250442, 2811.1705503876087, 2638.9628166024713, 2409.31621515889, 1962.3439431056354, 1664.8066283727812, 1497.4495019440094, 1084.95873609159, 1024.1987321466233, 953.7246824448347, 859.8802929649167, 837.0810519035547, 775.8903243449918, 749.4631793187306, 736.0929398004555, 720.568198170689, 637.928811124383, 581.9356249901688, 561.4319557793735, 513.9739613182098, 429.9511248489828, 425.5621137068863, 422.77115601947656, 393.7153718542617, 379.04623638388716, 374.2361630727565, 364.7771983932657, 339.67149271568104, 328.395734388678, 324.52373687377064, 288.6769359107336, 274.7365133409548, 1166.8817479829852, 1544.526077689324, 663.203182587911, 886.0903807015501, 495.6612495618952, 983.8823906539639, 2811.1705503876087, 2468.2150965214732, 4174.548946780197, 2140.3612116471136, 3267.409797087525, 832.9823592663594, 2207.4827549069328, 6452.971806049085, 5308.663820756071, 1589.3072424918755, 4854.375526241401, 2955.2241458222456, 4268.631055473625, 39423.6053090913, 2126.5003961240645, 1886.0216320063498, 847.1907803919953, 634.2653773732075, 531.6600125437267, 486.20735945878755, 397.13889470247915, 393.45955294551584, 367.21295048242496, 366.1027027354509, 352.5456651743958, 327.9346677205395, 307.8257872514305, 301.49314758166236, 264.46200845589277, 261.08739187665543, 239.12161527166032, 216.82112670559476, 204.33731749974345, 191.09017008190378, 176.31912101592977, 171.11749834004624, 164.62928189855216, 150.85701064836996, 140.10262512244643, 139.29281710396035, 136.31157982333215, 127.8306016090793, 126.36476314166478, 2616.5853854609772, 1249.1830205783713, 992.0549524509013, 913.8486856512882, 696.5194151297007, 689.3342544169144, 583.601869055358, 552.4840275332276, 517.2798808182561, 509.83199585743006, 472.2495223185708, 431.7700875032788, 420.3382885070836, 398.9986445821172, 342.18470644803836, 341.234215067949, 330.9143461322557, 325.35440253195, 307.6672212789777, 284.4595140881289, 283.0416740827567, 261.68341563489156, 257.8128584900035, 255.12945648877053, 195.49813699101225, 195.08979074181693, 191.4385013083541, 186.00715583095896, 557.1396590453661, 168.47192555002488, 1365.1711265629835, 299.4018358939363, 1635.764110209732, 445.0954928144673, 247.86534836504845, 1680.6856615833633, 2049.861457584652, 2006.639860440293, 3347.8327231491394, 739.4053987720083, 933.0633183259743, 1765.761181230595, 3481.5621770698895, 992.7978007307591, 653.0657530805761, 1595.0074536482955, 1277.8867349682469, 1330.9353861396942, 2375.4824037270655, 1319.4405247234795, 1278.8268123408307, 1212.8061373085254, 1142.523623128682, 1028.588918815336, 909.0547557581813, 788.0807421542971, 760.201835636552, 2078.225080278924, 702.5546786700257, 674.0642709626874, 1612.4229851214202, 597.1867799287437, 585.107230847638, 575.6077804954537, 573.0199628280396, 429.9083143699363, 419.34764517101297, 352.9686230847608, 310.3353771940487, 255.46683471164266, 239.18241847134502, 211.59259052252855, 207.78605648262285, 204.6763803459718, 197.60583632657088, 193.10186049444542, 176.80529370334884, 165.25358288310616, 702.5980505249089, 1357.714964113343, 438.7387216608554, 1046.2345572341555, 888.6596609317306, 1017.3117336239974, 715.2975204578077, 2081.789819301954, 1848.9453898720678, 3229.3513090597826, 1830.3211632095442, 1593.1491598929558, 1299.836781011642, 2982.4055603066404, 2374.8055212281765, 2502.2877076416607, 1449.6607014710253, 1265.4866204556079, 1179.9025703049679, 766.0086909334736, 749.5957834065509, 732.8059202342946, 564.4900796405117, 497.7301260861699, 494.4875955696152, 456.16700809865574, 455.66762316584254, 451.5886096853546, 449.2757683283379, 434.39186466723646, 418.28054805234297, 372.82957499556295, 353.28300946136915, 332.90984826778265, 329.8690887795495, 319.6489236795301, 317.70785255827326, 312.364358957702, 306.73533617607984, 295.88404065217503, 293.74196750342344, 293.3244950289393, 290.5395363205481, 289.31010189583526, 281.0290523916262, 278.8779926234303, 607.4836261129268, 644.8566002826523, 862.350284827853, 372.1224463958633, 439.45528999332424, 1892.5908733041138, 1174.7891137202073, 876.4921967903703, 724.7112450876376, 4912.891860337961, 1085.3570464869651, 1658.6420091483915, 551.0678235477565, 545.5426715357042, 502.62230472211644, 456.8237457679524, 419.9900855579764, 388.0021345372575, 385.5211531400052, 367.9580645510255, 344.9087277036009, 324.43410090856185, 315.52141174723806, 313.99693982301847, 295.9433041521555, 284.9894749505949, 280.47101508772045, 224.08131462996585, 214.17504282705585, 207.77684457568492, 193.14826050134283, 185.4770590271699, 184.13507527333775, 181.72248604205217, 178.4976908208625, 168.43876262808396, 164.66599638362592, 158.75198656908512, 154.96954340015995, 150.6409110240067, 149.77510608740016, 605.584451597941, 589.4152127390216, 2146.3731752405915, 759.7087046564168, 371.25309416174315, 2994.0718171563394, 761.4607083434556, 1765.761181230595, 1729.7348680901518, 646.2280423859318, 826.5078738395143, 949.163162882995, 3989.8273645455797, 1425.2635410515518, 1672.285221336438, 754.1940533937935, 686.7416015168008, 595.2587513340977, 537.0037988459679, 417.08977863826027, 375.1168229574913, 370.13332224044836, 367.6358360207351, 360.5852686807631, 309.06006366414493, 261.22275939271003, 246.84184094203596, 233.942446880498, 204.73452313630693, 203.62330717699666, 190.77349855833123, 189.67569455789035, 188.33845195111886, 179.48575871887232, 178.36935262675894, 170.62354617519912, 169.3425222049954, 163.85676425765203, 162.0834510941907, 162.01563940860558, 149.58528800426575, 144.42431528016556, 133.82775213119402, 132.87840129574334, 121.95010437929332, 937.8109547816716, 1425.2635410515518, 601.0694329950384, 514.6209322614579, 1261.5845053192697, 1052.7131208159574, 542.6836351722799, 590.1233097954233, 949.163162882995, 653.0657530805761, 689.0679582620359, 1365.1711265629835, 8106.915083481785, 2146.3731752405915, 362.1828190703157, 2445.4635350712856, 1361.6142452786487, 707.2706347767892, 540.1977530700567, 532.21436307829, 412.1196164437618, 411.3038528345601, 382.44742006777335, 337.191425713543, 291.7718293700987, 251.2503051792213, 248.0046511098084, 242.0338005656833, 189.71019331561936, 154.93659728554843, 146.6145296974844, 136.52872967365974, 136.0963542684804, 131.4103961837143, 111.19678111685826, 109.28633733262525, 97.8533177758017, 86.47370905650212, 83.12098279558266, 80.2364005250925, 79.30719717010972, 78.97873177891418, 74.79570988628126, 71.25012746339098, 65.13895898760518, 607.7887196118086, 679.3130262326752, 671.3268070707373, 585.0586341129674, 2207.4827549069328, 362.1828190703157, 1729.7348680901518, 1046.2345572341555, 1454.4698293419317, 1537.507941974433, 785.7793341964244, 1907.200983196926, 615.4030857569016, 479.586755153276, 451.80753997344755, 419.60264056910324, 366.83691052176374, 362.9077184963981, 356.4263306959335, 348.23688100794317, 324.8439743463731, 308.57813213484616, 271.46131767184187, 215.82961571563965, 192.64413736737438, 184.6781000612813, 183.1042404341411, 175.3156063897509, 174.98765250950905, 171.491987976125, 157.71161231311203, 151.72689886620608, 145.02923306483973, 142.4671250540172, 139.2201165196793, 132.18895630355652, 129.88282077513193, 129.423791665975, 114.27902635570976, 103.02864649105125, 102.56943513570724, 1636.982921206424, 833.9595568519835, 234.2025486322308, 4912.891860337961, 1919.4053706639882, 528.1460379951226, 522.1225802744859, 455.48078325618974, 448.8452001208851, 422.6304609666498, 310.4648617604428, 253.75849296161658, 225.58415875280227, 222.99034441532805, 193.0070913161663, 189.30794371411332, 182.0171738789063, 157.74628500320588, 151.28468785307535, 114.75909120568849, 114.63111067154627, 106.0252055693637, 100.03867133375331, 96.58818210606765, 91.88485830754, 91.24052011916757, 87.50746378403821, 87.3419711141067, 85.2883554651961, 85.25140008241054, 80.56799404179431, 74.14887574107193, 71.79425369344526, 64.88330372116322, 169.35918173406975, 197.40394316745076, 372.1161453338565, 839.051365789764, 563.1528241540669, 2716.952505093825, 125.34163050870231, 691.7671766532309, 1544.526077689324, 898.7728985544697, 627.6256575593957, 421.50747936136304, 318.9762910596295, 308.334816786765, 295.9511382363469, 239.30746008504866, 232.82660409001946, 232.25514669447844, 232.0093964201973, 217.50632000590673, 212.07093744413643, 208.79512459168038, 200.30283374604957, 199.66078075245343, 184.5376035700833, 177.4708229412106, 157.46500799653302, 153.1494950487701, 120.58215845869313, 119.10280215230713, 116.80768877694939, 108.16750485576647, 106.1551222776259, 104.68029183332693, 99.59401933068449, 98.56234590826261, 98.4262896966292, 91.63303338736976, 87.98364374842282, 81.82942326016644, 236.31577645405872, 192.63642863037646, 626.2397695328399, 543.6195443722443, 416.55562876570747, 314.6401203083209, 204.0157278556936, 189.14136446313822, 154.83448202686034, 148.4308214880924, 135.53033086217187, 131.7963115934042, 116.58905648277728, 111.78425702017458, 99.91964764409681, 98.53741005893117, 94.44328794072759, 91.96304147289094, 77.58478372250228, 68.36828444204754, 64.38389636134595, 64.12687874879424, 56.925575329544756, 56.530168494298664, 56.43372305036714, 55.41940822077627, 54.926164601304606, 38.967058784166944, 38.407781923937826, 31.607626954783367, 31.403550051317822, 28.128232140252695, 2716.952505093825, 554.8219545672918, 427.7808703948155, 409.53626753239416, 369.312525322048, 179.0841497485044, 153.74982763886405, 77.2252006254166, 71.06032391915302, 56.851843432490654, 33.15108500132756, 29.33062893787644, 27.852483135441926, 20.717065094629792, 17.321375158193288, 14.171508194648458, 12.30279487095731, 10.125683135220157, 9.482966969135964, 9.128973262239503, 691.7671766532309, 181.79416205813484, 3.600756247725067, 3.457540909537381, 52.419206674842975, 361.0771416204184, 957.5300865111093, 402.0472269567003, 473.4022258491994, 330.33799447348713, 671.3268070707373, 1454.4698293419317, 1008.9554084021444, 2207.4827549069328, 495.6612495618952, 795.1785217520295, 1188.8011628783916, 452.28643008562295, 264.11796533054076, 262.99975752039074, 240.1649260412048, 229.28038982089532, 186.82206026663002, 121.43173784857849, 91.43984315525482, 90.79728452231346, 81.25648582077682, 80.57303461974041, 74.9004552121027, 38.27112476763814, 30.39086959181479, 28.833903657700173, 27.812074836064944, 26.796998809187702, 24.049804255313344, 22.386349942613684, 20.068085828892904, 16.62505234516055, 16.575419431825658, 14.959798383985943, 10.111372835407467, 8.077606072630356, 1.260980764234331, 1.2609678502545332, 1.260941661798961, 1.2609211057271654, 1.2609128308957351, 1.2609711459480613, 240.14949495649236, 190.75157015587547, 188.94276851106164, 148.69747397759772, 119.81867339243257, 108.06500750793491, 95.78645348536476, 90.2572104894581, 89.93055292637334, 66.40581375639829, 65.93323878388405, 65.52382495171256, 64.06186947117072, 62.31897851607042, 52.83689757507009, 51.27175979248486, 45.1448499428078, 29.95584998862215, 21.942893200205326, 21.77660714068715, 18.23579814295487, 15.122549184123226, 9.598461119724682, 7.747449524332809, 5.644955583019423, 229.91627483721572, 1.2609066228966468, 1.2608987121951312, 1.2608986617554652, 1.2609012545398788, 1.2610855102465288, 1.2609269868735258, 1.260932897616716, 163.60042971375756, 141.56927305724489, 118.10658489314449, 96.50016854008008, 91.57423725516237, 89.20325275055423, 88.39963467425943, 86.47231908596416, 78.25505718266636, 72.00495831779129, 71.06894352366906, 63.760770036425264, 59.960648885528215, 50.55267433032859, 49.54317636482274, 43.14820522700106, 38.30803215569191, 38.11847815598137, 30.396072058052866, 25.83820272110597, 23.590596151514884, 21.38502046056755, 20.288241771772473, 17.083955954734105, 16.99732524232006, 14.71014501808861, 14.500440714239897, 13.300158795902972, 13.055427429344151, 13.052758739755049, 155.39936297976487, 75.48310192295266, 45.47569496284911, 44.33866992414834, 36.48669918871386, 28.382410118646177, 25.25017595146586, 18.58398544054826, 16.119725491160445, 14.576738829918169, 1.2608956765421728, 1.2608941447498356, 1.2608932420222512, 1.2608948970253706, 1.2608918823637103, 1.2608918823637103, 1.2608918823637103, 1.260892237853143, 1.2608921452891368, 1.260897210746967, 1.2608942559605656, 1.2608939369558143, 1.2608942864003039, 1.2608959716077588, 1.2608964379702459, 1.2609024084646523, 1.2608921663491905, 1.2608939551714677, 1.2608927808509662, 1.260893704949329, 1.2609066402458866, 1.260907260898707, 1.2609673269356634, 1.2609400055010824, 1.260927947234968, 1.2609278624420848, 1.2609729847424624, 1.2609836359366624, 1.2609631512249477], \"Category\": [\"Default\", \"Default\", \"Default\", \"Default\", \"Default\", \"Default\", \"Default\", \"Default\", \"Default\", \"Default\", \"Default\", \"Default\", \"Default\", \"Default\", \"Default\", \"Default\", \"Default\", \"Default\", \"Default\", \"Default\", \"Default\", \"Default\", \"Default\", \"Default\", \"Default\", \"Default\", \"Default\", \"Default\", \"Default\", \"Default\", \"Topic1\", \"Topic1\", \"Topic1\", \"Topic1\", \"Topic1\", \"Topic1\", \"Topic1\", \"Topic1\", \"Topic1\", \"Topic1\", \"Topic1\", \"Topic1\", \"Topic1\", \"Topic1\", \"Topic1\", \"Topic1\", \"Topic1\", \"Topic1\", \"Topic1\", \"Topic1\", \"Topic1\", \"Topic1\", \"Topic1\", \"Topic1\", \"Topic1\", \"Topic1\", \"Topic1\", \"Topic1\", \"Topic1\", \"Topic1\", \"Topic1\", \"Topic1\", \"Topic1\", \"Topic1\", \"Topic1\", \"Topic1\", \"Topic1\", \"Topic1\", \"Topic1\", \"Topic1\", \"Topic1\", \"Topic1\", \"Topic1\", \"Topic1\", \"Topic1\", \"Topic1\", \"Topic1\", \"Topic1\", \"Topic1\", \"Topic1\", \"Topic1\", \"Topic1\", \"Topic1\", \"Topic1\", \"Topic1\", \"Topic1\", \"Topic1\", \"Topic1\", \"Topic1\", \"Topic1\", \"Topic1\", \"Topic1\", \"Topic1\", \"Topic1\", \"Topic1\", \"Topic1\", \"Topic1\", \"Topic1\", \"Topic2\", \"Topic2\", \"Topic2\", \"Topic2\", \"Topic2\", \"Topic2\", \"Topic2\", \"Topic2\", \"Topic2\", \"Topic2\", \"Topic2\", \"Topic2\", \"Topic2\", \"Topic2\", \"Topic2\", \"Topic2\", \"Topic2\", \"Topic2\", \"Topic2\", \"Topic2\", \"Topic2\", \"Topic2\", \"Topic2\", \"Topic2\", \"Topic2\", \"Topic2\", \"Topic2\", \"Topic2\", \"Topic2\", \"Topic2\", \"Topic2\", \"Topic2\", \"Topic2\", \"Topic2\", \"Topic2\", \"Topic2\", \"Topic2\", \"Topic2\", \"Topic2\", \"Topic2\", \"Topic2\", \"Topic2\", \"Topic2\", \"Topic2\", \"Topic2\", \"Topic2\", \"Topic2\", \"Topic2\", \"Topic2\", \"Topic2\", \"Topic2\", \"Topic2\", \"Topic2\", \"Topic2\", \"Topic2\", \"Topic2\", \"Topic2\", \"Topic2\", \"Topic3\", \"Topic3\", \"Topic3\", \"Topic3\", \"Topic3\", \"Topic3\", \"Topic3\", \"Topic3\", \"Topic3\", \"Topic3\", \"Topic3\", \"Topic3\", \"Topic3\", \"Topic3\", \"Topic3\", \"Topic3\", \"Topic3\", \"Topic3\", \"Topic3\", \"Topic3\", \"Topic3\", \"Topic3\", \"Topic3\", \"Topic3\", \"Topic3\", \"Topic3\", \"Topic3\", \"Topic3\", \"Topic3\", \"Topic3\", \"Topic3\", \"Topic3\", \"Topic3\", \"Topic3\", \"Topic3\", \"Topic3\", \"Topic3\", \"Topic3\", \"Topic3\", \"Topic3\", \"Topic3\", \"Topic3\", \"Topic3\", \"Topic3\", \"Topic3\", \"Topic3\", \"Topic3\", \"Topic3\", \"Topic3\", \"Topic3\", \"Topic3\", \"Topic3\", \"Topic3\", \"Topic3\", \"Topic3\", \"Topic3\", \"Topic3\", \"Topic3\", \"Topic3\", \"Topic4\", \"Topic4\", \"Topic4\", \"Topic4\", \"Topic4\", \"Topic4\", \"Topic4\", \"Topic4\", \"Topic4\", \"Topic4\", \"Topic4\", \"Topic4\", \"Topic4\", \"Topic4\", \"Topic4\", \"Topic4\", \"Topic4\", \"Topic4\", \"Topic4\", \"Topic4\", \"Topic4\", \"Topic4\", \"Topic4\", \"Topic4\", \"Topic4\", \"Topic4\", \"Topic4\", \"Topic4\", \"Topic4\", \"Topic4\", \"Topic4\", \"Topic4\", \"Topic4\", \"Topic4\", \"Topic4\", \"Topic4\", \"Topic4\", \"Topic4\", \"Topic4\", \"Topic4\", \"Topic4\", \"Topic4\", \"Topic4\", \"Topic4\", \"Topic4\", \"Topic4\", \"Topic4\", \"Topic4\", \"Topic4\", \"Topic5\", \"Topic5\", \"Topic5\", \"Topic5\", \"Topic5\", \"Topic5\", \"Topic5\", \"Topic5\", \"Topic5\", \"Topic5\", \"Topic5\", \"Topic5\", \"Topic5\", \"Topic5\", \"Topic5\", \"Topic5\", \"Topic5\", \"Topic5\", \"Topic5\", \"Topic5\", \"Topic5\", \"Topic5\", \"Topic5\", \"Topic5\", \"Topic5\", \"Topic5\", \"Topic5\", \"Topic5\", \"Topic5\", \"Topic5\", \"Topic6\", \"Topic6\", \"Topic6\", \"Topic6\", \"Topic6\", \"Topic6\", \"Topic6\", \"Topic6\", \"Topic6\", \"Topic6\", \"Topic6\", \"Topic6\", \"Topic6\", \"Topic6\", \"Topic6\", \"Topic6\", \"Topic6\", \"Topic6\", \"Topic6\", \"Topic6\", \"Topic6\", \"Topic6\", \"Topic6\", \"Topic6\", \"Topic6\", \"Topic6\", \"Topic6\", \"Topic6\", \"Topic6\", \"Topic6\", \"Topic6\", \"Topic6\", \"Topic6\", \"Topic6\", \"Topic6\", \"Topic6\", \"Topic6\", \"Topic6\", \"Topic6\", \"Topic6\", \"Topic6\", \"Topic6\", \"Topic6\", \"Topic6\", \"Topic6\", \"Topic6\", \"Topic6\", \"Topic6\", \"Topic7\", \"Topic7\", \"Topic7\", \"Topic7\", \"Topic7\", \"Topic7\", \"Topic7\", \"Topic7\", \"Topic7\", \"Topic7\", \"Topic7\", \"Topic7\", \"Topic7\", \"Topic7\", \"Topic7\", \"Topic7\", \"Topic7\", \"Topic7\", \"Topic7\", \"Topic7\", \"Topic7\", \"Topic7\", \"Topic7\", \"Topic7\", \"Topic7\", \"Topic7\", \"Topic7\", \"Topic7\", \"Topic7\", \"Topic7\", \"Topic7\", \"Topic7\", \"Topic7\", \"Topic7\", \"Topic7\", \"Topic7\", \"Topic7\", \"Topic7\", \"Topic7\", \"Topic7\", \"Topic7\", \"Topic7\", \"Topic7\", \"Topic7\", \"Topic7\", \"Topic7\", \"Topic8\", \"Topic8\", \"Topic8\", \"Topic8\", \"Topic8\", \"Topic8\", \"Topic8\", \"Topic8\", \"Topic8\", \"Topic8\", \"Topic8\", \"Topic8\", \"Topic8\", \"Topic8\", \"Topic8\", \"Topic8\", \"Topic8\", \"Topic8\", \"Topic8\", \"Topic8\", \"Topic8\", \"Topic8\", \"Topic8\", \"Topic8\", \"Topic8\", \"Topic8\", \"Topic8\", \"Topic8\", \"Topic8\", \"Topic8\", \"Topic8\", \"Topic8\", \"Topic8\", \"Topic8\", \"Topic8\", \"Topic8\", \"Topic8\", \"Topic8\", \"Topic8\", \"Topic8\", \"Topic8\", \"Topic9\", \"Topic9\", \"Topic9\", \"Topic9\", \"Topic9\", \"Topic9\", \"Topic9\", \"Topic9\", \"Topic9\", \"Topic9\", \"Topic9\", \"Topic9\", \"Topic9\", \"Topic9\", \"Topic9\", \"Topic9\", \"Topic9\", \"Topic9\", \"Topic9\", \"Topic9\", \"Topic9\", \"Topic9\", \"Topic9\", \"Topic9\", \"Topic9\", \"Topic9\", \"Topic9\", \"Topic9\", \"Topic9\", \"Topic9\", \"Topic9\", \"Topic9\", \"Topic9\", \"Topic9\", \"Topic9\", \"Topic9\", \"Topic9\", \"Topic9\", \"Topic9\", \"Topic9\", \"Topic9\", \"Topic9\", \"Topic9\", \"Topic9\", \"Topic9\", \"Topic10\", \"Topic10\", \"Topic10\", \"Topic10\", \"Topic10\", \"Topic10\", \"Topic10\", \"Topic10\", \"Topic10\", \"Topic10\", \"Topic10\", \"Topic10\", \"Topic10\", \"Topic10\", \"Topic10\", \"Topic10\", \"Topic10\", \"Topic10\", \"Topic10\", \"Topic10\", \"Topic10\", \"Topic10\", \"Topic10\", \"Topic10\", \"Topic10\", \"Topic10\", \"Topic10\", \"Topic10\", \"Topic10\", \"Topic10\", \"Topic10\", \"Topic10\", \"Topic10\", \"Topic10\", \"Topic10\", \"Topic10\", \"Topic10\", \"Topic10\", \"Topic10\", \"Topic10\", \"Topic10\", \"Topic10\", \"Topic10\", \"Topic10\", \"Topic10\", \"Topic11\", \"Topic11\", \"Topic11\", \"Topic11\", \"Topic11\", \"Topic11\", \"Topic11\", \"Topic11\", \"Topic11\", \"Topic11\", \"Topic11\", \"Topic11\", \"Topic11\", \"Topic11\", \"Topic11\", \"Topic11\", \"Topic11\", \"Topic11\", \"Topic11\", \"Topic11\", \"Topic11\", \"Topic11\", \"Topic11\", \"Topic11\", \"Topic11\", \"Topic11\", \"Topic11\", \"Topic11\", \"Topic11\", \"Topic11\", \"Topic11\", \"Topic11\", \"Topic11\", \"Topic11\", \"Topic11\", \"Topic11\", \"Topic11\", \"Topic11\", \"Topic11\", \"Topic11\", \"Topic11\", \"Topic12\", \"Topic12\", \"Topic12\", \"Topic12\", \"Topic12\", \"Topic12\", \"Topic12\", \"Topic12\", \"Topic12\", \"Topic12\", \"Topic12\", \"Topic12\", \"Topic12\", \"Topic12\", \"Topic12\", \"Topic12\", \"Topic12\", \"Topic12\", \"Topic12\", \"Topic12\", \"Topic12\", \"Topic12\", \"Topic12\", \"Topic12\", \"Topic12\", \"Topic12\", \"Topic12\", \"Topic12\", \"Topic12\", \"Topic12\", \"Topic12\", \"Topic12\", \"Topic12\", \"Topic12\", \"Topic13\", \"Topic13\", \"Topic13\", \"Topic13\", \"Topic13\", \"Topic13\", \"Topic13\", \"Topic13\", \"Topic13\", \"Topic13\", \"Topic13\", \"Topic13\", \"Topic13\", \"Topic13\", \"Topic13\", \"Topic13\", \"Topic13\", \"Topic13\", \"Topic13\", \"Topic13\", \"Topic13\", \"Topic13\", \"Topic13\", \"Topic13\", \"Topic13\", \"Topic13\", \"Topic13\", \"Topic13\", \"Topic13\", \"Topic13\", \"Topic13\", \"Topic13\", \"Topic13\", \"Topic13\", \"Topic13\", \"Topic13\", \"Topic13\", \"Topic13\", \"Topic13\", \"Topic13\", \"Topic14\", \"Topic14\", \"Topic14\", \"Topic14\", \"Topic14\", \"Topic14\", \"Topic14\", \"Topic14\", \"Topic14\", \"Topic14\", \"Topic14\", \"Topic14\", \"Topic14\", \"Topic14\", \"Topic14\", \"Topic14\", \"Topic14\", \"Topic14\", \"Topic14\", \"Topic14\", \"Topic14\", \"Topic14\", \"Topic14\", \"Topic14\", \"Topic14\", \"Topic14\", \"Topic14\", \"Topic14\", \"Topic14\", \"Topic14\", \"Topic14\", \"Topic14\", \"Topic15\", \"Topic15\", \"Topic15\", \"Topic15\", \"Topic15\", \"Topic15\", \"Topic15\", \"Topic15\", \"Topic15\", \"Topic15\", \"Topic15\", \"Topic15\", \"Topic15\", \"Topic15\", \"Topic15\", \"Topic15\", \"Topic15\", \"Topic15\", \"Topic15\", \"Topic15\", \"Topic15\", \"Topic15\", \"Topic15\", \"Topic15\", \"Topic15\", \"Topic15\", \"Topic15\", \"Topic15\", \"Topic15\", \"Topic15\", \"Topic15\", \"Topic16\", \"Topic16\", \"Topic16\", \"Topic16\", \"Topic16\", \"Topic16\", \"Topic16\", \"Topic16\", \"Topic16\", \"Topic16\", \"Topic16\", \"Topic16\", \"Topic16\", \"Topic16\", \"Topic16\", \"Topic16\", \"Topic16\", \"Topic16\", \"Topic16\", \"Topic16\", \"Topic16\", \"Topic16\", \"Topic16\", \"Topic16\", \"Topic16\", \"Topic16\", \"Topic16\", \"Topic16\", \"Topic16\", \"Topic16\", \"Topic16\", \"Topic16\", \"Topic16\", \"Topic16\", \"Topic16\", \"Topic16\", \"Topic17\", \"Topic17\", \"Topic17\", \"Topic17\", \"Topic17\", \"Topic17\", \"Topic17\", \"Topic17\", \"Topic17\", \"Topic17\", \"Topic17\", \"Topic17\", \"Topic17\", \"Topic17\", \"Topic17\", \"Topic17\", \"Topic17\", \"Topic17\", \"Topic17\", \"Topic17\", \"Topic17\", \"Topic17\", \"Topic17\", \"Topic17\", \"Topic17\", \"Topic17\", \"Topic17\", \"Topic17\", \"Topic17\", \"Topic17\", \"Topic17\", \"Topic18\", \"Topic18\", \"Topic18\", \"Topic18\", \"Topic18\", \"Topic18\", \"Topic18\", \"Topic18\", \"Topic18\", \"Topic18\", \"Topic18\", \"Topic18\", \"Topic18\", \"Topic18\", \"Topic18\", \"Topic18\", \"Topic18\", \"Topic18\", \"Topic18\", \"Topic18\", \"Topic18\", \"Topic18\", \"Topic18\", \"Topic18\", \"Topic18\", \"Topic18\", \"Topic18\", \"Topic18\", \"Topic18\", \"Topic18\", \"Topic18\", \"Topic18\", \"Topic18\", \"Topic19\", \"Topic19\", \"Topic19\", \"Topic19\", \"Topic19\", \"Topic19\", \"Topic19\", \"Topic19\", \"Topic19\", \"Topic19\", \"Topic19\", \"Topic19\", \"Topic19\", \"Topic19\", \"Topic19\", \"Topic19\", \"Topic19\", \"Topic19\", \"Topic19\", \"Topic19\", \"Topic19\", \"Topic19\", \"Topic19\", \"Topic19\", \"Topic19\", \"Topic19\", \"Topic19\", \"Topic19\", \"Topic19\", \"Topic19\", \"Topic19\", \"Topic20\", \"Topic20\", \"Topic20\", \"Topic20\", \"Topic20\", \"Topic20\", \"Topic20\", \"Topic20\", \"Topic20\", \"Topic20\", \"Topic20\", \"Topic20\", \"Topic20\", \"Topic20\", \"Topic20\", \"Topic20\", \"Topic20\", \"Topic20\", \"Topic20\", \"Topic20\", \"Topic20\", \"Topic20\", \"Topic20\", \"Topic20\", \"Topic20\", \"Topic20\", \"Topic20\", \"Topic20\", \"Topic20\", \"Topic20\", \"Topic20\", \"Topic20\", \"Topic20\", \"Topic20\", \"Topic20\", \"Topic20\", \"Topic20\", \"Topic20\"], \"logprob\": [30.0, 29.0, 28.0, 27.0, 26.0, 25.0, 24.0, 23.0, 22.0, 21.0, 20.0, 19.0, 18.0, 17.0, 16.0, 15.0, 14.0, 13.0, 12.0, 11.0, 10.0, 9.0, 8.0, 7.0, 6.0, 5.0, 4.0, 3.0, 2.0, 1.0, -3.6621, -5.2739, -5.4641, -5.6263, -5.7634, -5.7768, -5.8003, -5.8016, -5.8539, -5.8574, -5.8645, -5.8748, -5.88, -5.8949, -5.9223, -6.0196, -6.0743, -5.5644, -6.2534, -6.3086, -6.3654, -6.3845, -6.3891, -6.4044, -6.466, -6.4685, -6.5118, -6.5246, -6.5569, -6.5675, -4.3374, -5.7139, -4.6738, -4.4805, -5.2077, -5.7238, -3.8427, -3.9034, -4.1252, -5.0013, -4.4596, -5.7272, -4.5736, -4.8133, -5.0938, -5.306, -4.493, -4.6265, -4.873, -4.7483, -5.0713, -4.011, -4.0882, -5.47, -4.615, -4.7021, -5.4952, -5.2759, -4.758, -4.8144, -4.9443, -4.5821, -4.9071, -4.6013, -4.7772, -5.0198, -4.8144, -5.0497, -3.8807, -3.9676, -3.4218, -4.9753, -5.0989, -5.2343, -5.3375, -5.3864, -5.4268, -5.4716, -5.5162, -5.5305, -5.5363, -5.6884, -5.927, -5.9835, -5.9899, -6.0693, -6.1216, -6.1228, -6.1538, -6.1896, -6.2039, -6.2225, -6.2626, -6.3338, -6.3936, -6.4175, -6.4211, -6.4844, -2.9386, -5.069, -5.0038, -5.7376, -3.534, -5.0481, -5.1453, -3.6665, -5.5518, -4.509, -4.6699, -3.3974, -5.3239, -4.8992, -4.4082, -4.3183, -4.1803, -4.666, -4.4109, -4.9185, -4.8619, -5.0021, -5.1699, -5.0014, -4.945, -5.1174, -4.9548, -5.1575, -4.5103, -4.8599, -4.9531, -4.9701, -5.0065, -5.1965, -5.278, -5.3239, -5.357, -5.4513, -5.4749, -5.4829, -5.5631, -5.6573, -5.7865, -5.7928, -5.8205, -5.8221, -5.8607, -5.9014, -5.9093, -5.9209, -5.9335, -5.9455, -5.9621, -5.9971, -6.0031, -6.008, -6.0657, -6.0692, -4.5879, -5.0089, -5.7099, -4.9839, -5.4773, -4.7639, -5.2364, -4.8689, -3.9185, -5.5179, -4.811, -5.1527, -4.4607, -5.2743, -4.0056, -4.742, -5.106, -5.1483, -4.2568, -4.8849, -4.8432, -4.6362, -5.2805, -5.0257, -4.992, -5.023, -5.0178, -5.14, -5.1955, -3.2467, -3.3378, -3.5431, -3.7076, -3.8136, -4.1362, -4.1939, -4.2652, -4.369, -4.3959, -4.4719, -4.5066, -4.5246, -4.546, -4.668, -4.76, -4.796, -4.8845, -5.0635, -5.0737, -5.0803, -5.1518, -5.1898, -5.2027, -5.2283, -5.2999, -5.3338, -5.3457, -5.4632, -5.5129, -4.1123, -3.8635, -4.668, -4.4583, -4.972, -4.4437, -3.6701, -3.8131, -3.4957, -4.0492, -3.8089, -4.7014, -4.18, -3.6591, -3.8721, -4.4736, -4.2387, -4.4217, -4.6244, -0.4031, -3.3235, -3.4436, -4.2447, -4.5346, -4.7114, -4.8009, -5.0038, -5.0132, -5.0824, -5.0854, -5.1233, -5.1959, -5.2594, -5.2803, -5.4118, -5.4247, -5.513, -5.6114, -5.671, -5.7385, -5.8194, -5.8495, -5.8885, -5.9765, -6.051, -6.0568, -6.0787, -6.1435, -6.1551, -2.9192, -3.6591, -3.8898, -3.972, -4.244, -4.2544, -4.4212, -4.4761, -4.5421, -4.5566, -4.6334, -4.7233, -4.7502, -4.8024, -4.9565, -4.9593, -4.9901, -5.0072, -5.0633, -5.142, -5.147, -5.2258, -5.2408, -5.2513, -5.519, -5.5211, -5.5401, -5.5691, -4.4724, -5.6688, -3.8083, -5.1605, -3.7591, -4.844, -5.3293, -3.8204, -3.7828, -3.827, -3.5876, -4.5774, -4.5246, -4.1945, -3.9193, -4.6818, -4.8193, -4.6416, -4.7691, -4.794, -3.0104, -3.5988, -3.6301, -3.6831, -3.7429, -3.8481, -3.9717, -4.1148, -4.1508, -3.1452, -4.2298, -4.2713, -3.3992, -4.3926, -4.4131, -4.4295, -4.434, -4.722, -4.747, -4.9198, -5.049, -5.2444, -5.3106, -5.4338, -5.4521, -5.4672, -5.5026, -5.5258, -5.6145, -5.6826, -4.2553, -3.6543, -4.7933, -4.0486, -4.196, -4.1401, -4.4554, -3.7086, -3.8246, -3.4344, -3.9396, -4.1239, -4.2429, -3.8851, -4.005, -4.102, -3.4836, -3.6196, -3.6897, -4.1222, -4.1439, -4.1666, -4.428, -4.5542, -4.5607, -4.6416, -4.6427, -4.6517, -4.6568, -4.6906, -4.7285, -4.8439, -4.8979, -4.9575, -4.9667, -4.9983, -5.0044, -5.0215, -5.0397, -5.0759, -5.0832, -5.0846, -5.0942, -5.0984, -5.1276, -5.1353, -4.4025, -4.3552, -4.1792, -4.8867, -4.8147, -3.858, -4.2781, -4.5018, -4.733, -4.424, -4.7878, -3.053, -4.1563, -4.1664, -4.2486, -4.3444, -4.4286, -4.5081, -4.5145, -4.5613, -4.6262, -4.6876, -4.7156, -4.7205, -4.7799, -4.8178, -4.8338, -5.0594, -5.1048, -5.1353, -5.2088, -5.2495, -5.2569, -5.2701, -5.2882, -5.3466, -5.3694, -5.4062, -5.4305, -5.4591, -5.4649, -4.0823, -4.1396, -2.9874, -4.0166, -4.7182, -3.0771, -4.1617, -3.5248, -3.694, -4.4072, -4.3182, -4.3908, -3.7158, -4.5282, -4.587, -3.5434, -3.6372, -3.7805, -3.8837, -4.137, -4.2434, -4.2568, -4.2636, -4.283, -4.4378, -4.6066, -4.6635, -4.7175, -4.8516, -4.857, -4.9226, -4.9284, -4.9356, -4.984, -4.9903, -5.035, -5.0426, -5.0758, -5.0867, -5.0871, -5.1676, -5.203, -5.2798, -5.287, -5.3737, -3.5339, -3.2156, -4.01, -4.4026, -3.9401, -4.2131, -4.5428, -4.5237, -4.342, -4.6037, -4.6065, -4.5009, -4.1812, -4.605, -4.8989, -2.0269, -2.6129, -3.2687, -3.5387, -3.5536, -3.81, -3.812, -3.885, -4.0113, -4.1566, -4.3068, -4.3198, -4.3443, -4.5893, -4.7932, -4.8488, -4.9207, -4.9239, -4.9593, -5.128, -5.1455, -5.2573, -5.3826, -5.4227, -5.4585, -5.4704, -5.4746, -5.5299, -5.5792, -5.6705, -3.7294, -3.6753, -3.816, -3.977, -3.5982, -4.711, -4.2561, -4.5085, -4.8319, -4.9344, -4.997, -2.1461, -3.2785, -3.5284, -3.5883, -3.6624, -3.7972, -3.808, -3.8261, -3.8494, -3.9192, -3.9708, -4.0995, -4.33, -4.4443, -4.4868, -4.4954, -4.5392, -4.541, -4.5614, -4.6457, -4.6847, -4.7303, -4.7482, -4.7715, -4.8238, -4.8415, -4.8451, -4.9708, -5.0756, -5.0801, -2.4497, -3.558, -4.6733, -4.3807, -1.9693, -3.2613, -3.2728, -3.4097, -3.4244, -3.4847, -3.7942, -3.9968, -4.115, -4.1267, -4.2719, -4.2914, -4.3309, -4.475, -4.5172, -4.7961, -4.7972, -4.8761, -4.9349, -4.9704, -5.021, -5.0281, -5.0705, -5.0724, -5.0965, -5.097, -5.1543, -5.2386, -5.2714, -5.3745, -4.5244, -4.4888, -4.2606, -3.9512, -4.5892, -4.2096, -4.9968, -4.7299, -4.7416, -4.8334, -2.808, -3.207, -3.4866, -3.5207, -3.5619, -3.7753, -3.8029, -3.8053, -3.8064, -3.8713, -3.8967, -3.9124, -3.9542, -3.9574, -4.0367, -4.076, -4.1964, -4.2244, -4.4657, -4.4781, -4.4978, -4.5755, -4.5945, -4.6086, -4.659, -4.6695, -4.6709, -4.7434, -4.7846, -4.8581, -3.8669, -4.6837, -2.7166, -2.8583, -3.1252, -3.4068, -3.8421, -3.9183, -4.1198, -4.1624, -4.2541, -4.2823, -4.4061, -4.4487, -4.5622, -4.5763, -4.6193, -4.6462, -4.8187, -4.9473, -5.0085, -5.0125, -5.1341, -5.1412, -5.143, -5.1615, -5.1706, -5.5232, -5.5381, -5.74, -5.7467, -5.8615, -1.3257, -2.5134, -2.7741, -2.8178, -2.9215, -3.6488, -3.8025, -4.499, -4.5835, -4.811, -5.366, -5.4934, -5.5474, -5.8592, -6.0504, -6.268, -6.4237, -6.6422, -6.717, -6.7607, -2.4855, -3.9099, -7.9586, -8.0204, -5.3457, -3.9899, -3.2369, -4.154, -4.0162, -4.827, -4.2761, -4.4882, -5.083, -4.7094, -5.6232, -5.8557, -6.2407, -2.3422, -2.8821, -2.8863, -2.9776, -3.0242, -3.2302, -3.6646, -3.9516, -3.9587, -4.0713, -4.0799, -4.1541, -4.8415, -5.0806, -5.1354, -5.1731, -5.212, -5.3256, -5.4013, -5.5173, -5.719, -5.7222, -5.8333, -6.2684, -6.5281, -11.5849, -11.585, -11.585, -11.5851, -11.5852, -11.5852, -2.878, -3.1096, -3.1192, -3.3605, -3.5784, -3.6828, -3.8048, -3.8651, -3.8688, -4.1769, -4.1841, -4.1905, -4.2135, -4.2416, -4.4102, -4.441, -4.5716, -4.9959, -5.3227, -5.3308, -5.5197, -5.7217, -6.2279, -6.4774, -6.8657, -6.1512, -11.4294, -11.4294, -11.4294, -11.4294, -11.4293, -11.4294, -11.4294, -3.2008, -3.3466, -3.5295, -3.7339, -3.787, -3.8136, -3.8227, -3.8451, -3.9464, -4.031, -4.0444, -4.1549, -4.2176, -4.3921, -4.4128, -4.5547, -4.6774, -4.6825, -4.9173, -5.0871, -5.1829, -5.2866, -5.3426, -5.5265, -5.532, -5.6886, -5.7042, -5.7989, -5.8194, -5.8196, -5.2675, -2.9306, -3.4484, -3.4744, -3.6756, -3.9368, -4.0595, -4.3847, -4.5379, -4.6474, -11.093, -11.093, -11.093, -11.093, -11.093, -11.093, -11.093, -11.093, -11.093, -11.093, -11.093, -11.093, -11.093, -11.093, -11.093, -11.093, -11.093, -11.093, -11.093, -11.093, -11.093, -11.093, -11.093, -11.093, -11.093, -11.093, -11.093, -11.093, -11.093], \"loglift\": [30.0, 29.0, 28.0, 27.0, 26.0, 25.0, 24.0, 23.0, 22.0, 21.0, 20.0, 19.0, 18.0, 17.0, 16.0, 15.0, 14.0, 13.0, 12.0, 11.0, 10.0, 9.0, 8.0, 7.0, 6.0, 5.0, 4.0, 3.0, 2.0, 1.0, 1.3045, 1.304, 1.3038, 1.3037, 1.3036, 1.3036, 1.3035, 1.3035, 1.3035, 1.3035, 1.3035, 1.3034, 1.3034, 1.3034, 1.3034, 1.3033, 1.3032, 1.3031, 1.3029, 1.3028, 1.3027, 1.3026, 1.3026, 1.3026, 1.3025, 1.3025, 1.3024, 1.3023, 1.3023, 1.3022, 1.3, 1.3021, 1.2886, 1.2742, 1.2872, 1.2914, 1.2372, 1.2282, 1.2305, 1.248, 1.2232, 1.2757, 1.2114, 1.2148, 1.2275, 1.2458, 1.1125, 1.1264, 1.1629, 1.1396, 1.1756, 0.9923, 0.9581, 1.24, 1.0017, 1.0192, 1.2298, 1.1562, 0.9719, 0.9563, 0.9808, 0.7136, 0.8818, 0.544, 0.6705, 0.779, -0.2815, 0.5717, 1.3645, 1.3644, 1.3641, 1.3641, 1.3641, 1.364, 1.3639, 1.3639, 1.3638, 1.3638, 1.3638, 1.3637, 1.3637, 1.3636, 1.3633, 1.3632, 1.3632, 1.3631, 1.363, 1.363, 1.363, 1.3629, 1.3629, 1.3628, 1.3628, 1.3626, 1.3625, 1.3625, 1.3625, 1.3623, 1.3496, 1.35, 1.3423, 1.3506, 1.2907, 1.3216, 1.3199, 1.2357, 1.3243, 1.2531, 1.2551, 1.1355, 1.2909, 1.2461, 1.1726, 1.1294, 1.0758, 0.9244, 0.7344, 0.7029, 0.5857, 0.7366, 0.9343, 0.5913, 0.3506, 0.733, 0.0484, 0.6501, 1.897, 1.8968, 1.8967, 1.8967, 1.8966, 1.8965, 1.8964, 1.8963, 1.8963, 1.8961, 1.8961, 1.8961, 1.896, 1.8958, 1.8956, 1.8956, 1.8955, 1.8955, 1.8954, 1.8953, 1.8953, 1.8953, 1.8953, 1.8952, 1.8952, 1.8951, 1.8951, 1.8951, 1.8949, 1.8949, 1.8891, 1.8911, 1.8907, 1.8483, 1.8658, 1.8077, 1.8176, 1.7732, 1.5848, 1.8343, 1.6356, 1.7181, 1.5263, 1.7253, 1.3024, 1.5134, 1.6365, 1.6497, 1.0943, 1.4228, 1.3069, 1.1024, 1.673, 1.3714, 1.2847, 1.2658, 0.9994, 1.2864, 0.9435, 2.9555, 2.9555, 2.9554, 2.9553, 2.9552, 2.9549, 2.9548, 2.9547, 2.9546, 2.9546, 2.9545, 2.9544, 2.9544, 2.9543, 2.9541, 2.9539, 2.9539, 2.9537, 2.9532, 2.9532, 2.9532, 2.953, 2.9529, 2.9528, 2.9527, 2.9525, 2.9524, 2.9523, 2.9519, 2.9517, 2.906, 2.8744, 2.9153, 2.8353, 2.9025, 2.7452, 2.4689, 2.456, 2.2479, 2.3624, 2.1797, 2.654, 2.2007, 1.6489, 1.6312, 2.2357, 1.354, 1.6673, 1.0969, 3.0951, 3.0946, 3.0945, 3.0938, 3.0933, 3.093, 3.0928, 3.0922, 3.0922, 3.092, 3.092, 3.0919, 3.0916, 3.0914, 3.0913, 3.0908, 3.0908, 3.0904, 3.0899, 3.0895, 3.0892, 3.0887, 3.0885, 3.0882, 3.0876, 3.087, 3.0869, 3.0867, 3.0862, 3.0861, 3.2915, 3.291, 3.2908, 3.2907, 3.2903, 3.2902, 3.2899, 3.2898, 3.2897, 3.2896, 3.2894, 3.2892, 3.2891, 3.289, 3.2885, 3.2885, 3.2883, 3.2883, 3.2881, 3.2877, 3.2877, 3.2874, 3.2873, 3.2873, 3.2858, 3.2858, 3.2857, 3.2855, 3.2851, 3.2848, 3.053, 3.2181, 2.9214, 3.1381, 3.2381, 2.833, 2.672, 2.6491, 2.3767, 2.8971, 2.7173, 2.4095, 2.0058, 2.498, 2.7793, 2.0641, 2.1583, 2.0928, 3.297, 3.2966, 3.2966, 3.2965, 3.2965, 3.2964, 3.2962, 3.296, 3.2959, 3.2959, 3.2958, 3.2957, 3.2957, 3.2955, 3.2955, 3.2954, 3.2954, 3.2947, 3.2947, 3.2941, 3.2937, 3.2928, 3.2925, 3.2919, 3.2918, 3.2917, 3.2915, 3.2913, 3.2908, 3.2903, 3.2703, 3.2124, 3.2031, 3.0788, 3.0947, 3.0154, 3.0522, 2.7308, 2.7333, 2.5659, 2.6285, 2.583, 2.6675, 2.1948, 2.3027, 2.1534, 3.3177, 3.3176, 3.3175, 3.317, 3.3169, 3.3169, 3.3164, 3.3161, 3.3161, 3.3159, 3.3159, 3.3159, 3.3159, 3.3158, 3.3157, 3.3153, 3.3151, 3.3149, 3.3149, 3.3148, 3.3148, 3.3147, 3.3146, 3.3145, 3.3145, 3.3145, 3.3144, 3.3144, 3.3143, 3.3142, 3.2685, 3.2561, 3.1414, 3.2744, 3.1801, 2.6766, 2.7334, 2.8026, 2.7616, 1.1567, 2.3029, 3.6136, 3.6121, 3.6121, 3.6119, 3.6117, 3.6115, 3.6112, 3.6112, 3.6111, 3.6109, 3.6106, 3.6105, 3.6105, 3.6103, 3.6101, 3.6101, 3.609, 3.6087, 3.6086, 3.6081, 3.6079, 3.6078, 3.6077, 3.6076, 3.6072, 3.6071, 3.6068, 3.6066, 3.6064, 3.6063, 3.5918, 3.5617, 3.4214, 3.4309, 3.4453, 2.9989, 3.2834, 3.0792, 2.9306, 3.202, 3.045, 2.8339, 2.0731, 2.29, 2.0714, 3.9113, 3.9112, 3.9109, 3.9107, 3.91, 3.9097, 3.9097, 3.9097, 3.9096, 3.909, 3.9083, 3.9081, 3.9078, 3.9071, 3.907, 3.9066, 3.9066, 3.9066, 3.9062, 3.9062, 3.9059, 3.9058, 3.9056, 3.9055, 3.9055, 3.9049, 3.9046, 3.904, 3.9039, 3.9031, 3.7029, 3.6026, 3.6717, 3.4343, 3.0001, 2.9082, 3.2411, 3.1763, 2.8827, 2.995, 2.9385, 2.3604, 0.8986, 1.8038, 3.2893, 4.2514, 4.251, 4.2502, 4.2497, 4.2497, 4.249, 4.249, 4.2488, 4.2484, 4.2478, 4.2471, 4.2471, 4.247, 4.2456, 4.2441, 4.2437, 4.2431, 4.2431, 4.2427, 4.2411, 4.2409, 4.2396, 4.2379, 4.2374, 4.2368, 4.2367, 4.2366, 4.2357, 4.2349, 4.2333, 3.9411, 3.884, 3.7551, 3.7317, 2.7825, 3.4772, 2.3686, 2.6189, 1.966, 1.808, 2.4166, 4.3809, 4.3795, 4.379, 4.3788, 4.3786, 4.3782, 4.3782, 4.3781, 4.378, 4.3778, 4.3776, 4.3771, 4.3759, 4.3752, 4.375, 4.3749, 4.3746, 4.3746, 4.3745, 4.3738, 4.3735, 4.3732, 4.373, 4.3728, 4.3723, 4.3722, 4.3722, 4.3709, 4.3697, 4.3697, 4.23, 3.7962, 3.9508, 1.2, 4.5513, 4.5497, 4.5497, 4.5493, 4.5493, 4.5491, 4.5481, 4.5472, 4.5466, 4.5466, 4.5457, 4.5456, 4.5453, 4.5443, 4.544, 4.5415, 4.5414, 4.5406, 4.5399, 4.5395, 4.5388, 4.5387, 4.5382, 4.5381, 4.5378, 4.5378, 4.537, 4.5357, 4.5351, 4.5333, 4.424, 4.3063, 3.9006, 3.3969, 3.1576, 1.9635, 4.2525, 2.8112, 1.9963, 2.4459, 4.8304, 4.8295, 4.8286, 4.8285, 4.8283, 4.8273, 4.8272, 4.8272, 4.8272, 4.8268, 4.8267, 4.8266, 4.8264, 4.8263, 4.8258, 4.8256, 4.8247, 4.8245, 4.8224, 4.8222, 4.822, 4.8212, 4.821, 4.8208, 4.8202, 4.8201, 4.8201, 4.8192, 4.8186, 4.8176, 4.7483, 4.1358, 4.9241, 4.9238, 4.9231, 4.9221, 4.92, 4.9196, 4.9181, 4.9178, 4.917, 4.9168, 4.9156, 4.9151, 4.9138, 4.9136, 4.9131, 4.9127, 4.9103, 4.9081, 4.907, 4.9069, 4.9045, 4.9044, 4.9043, 4.9039, 4.9037, 4.8945, 4.894, 4.887, 4.8867, 4.882, 4.8474, 5.2483, 5.2476, 5.2475, 5.2472, 5.2437, 5.2426, 5.2347, 5.2333, 5.2289, 5.2133, 5.2083, 5.206, 5.1902, 5.178, 5.1611, 5.1469, 5.1231, 5.1139, 5.1082, 5.0556, 4.9675, 4.8406, 4.8194, 4.7754, 4.2014, 3.9791, 3.9298, 3.9042, 3.4533, 3.295, 2.3097, 2.0806, 1.6714, 2.2512, 1.546, 0.759, 5.6238, 5.6219, 5.6219, 5.6214, 5.6212, 5.62, 5.6164, 5.6131, 5.613, 5.6114, 5.6113, 5.6101, 5.5942, 5.5856, 5.5834, 5.5818, 5.58, 5.5746, 5.5706, 5.5639, 5.5505, 5.5502, 5.5416, 5.4982, 5.4632, 2.2635, 2.2635, 2.2635, 2.2634, 2.2633, 2.2633, 5.7211, 5.7198, 5.7197, 5.718, 5.716, 5.7149, 5.7134, 5.7126, 5.7126, 5.7077, 5.7076, 5.7074, 5.707, 5.7065, 5.7029, 5.7022, 5.6989, 5.6848, 5.6692, 5.6688, 5.6572, 5.6424, 5.5908, 5.5556, 5.4838, 2.4914, 2.4192, 2.4191, 2.4191, 2.4191, 2.4191, 2.4191, 2.4191, 5.7821, 5.781, 5.7793, 5.7769, 5.7762, 5.7759, 5.7758, 5.7754, 5.7739, 5.7726, 5.7723, 5.7703, 5.7691, 5.7652, 5.7647, 5.761, 5.7573, 5.7572, 5.7487, 5.7414, 5.7366, 5.731, 5.7277, 5.7157, 5.7153, 5.7032, 5.7019, 5.6936, 5.6917, 5.6917, 3.7669, 6.8258, 6.8148, 6.8141, 6.8078, 6.7977, 6.7921, 6.7734, 6.7624, 6.7535, 2.7556, 2.7556, 2.7556, 2.7555, 2.7555, 2.7555, 2.7555, 2.7555, 2.7555, 2.7555, 2.7555, 2.7555, 2.7555, 2.7555, 2.7555, 2.7555, 2.7555, 2.7555, 2.7555, 2.7555, 2.7555, 2.7555, 2.7555, 2.7555, 2.7555, 2.7555, 2.7555, 2.7555, 2.7555]}, \"token.table\": {\"Topic\": [1, 3, 4, 11, 11, 9, 13, 11, 6, 9, 10, 17, 3, 3, 7, 7, 2, 8, 1, 3, 9, 1, 2, 3, 4, 7, 1, 2, 9, 11, 19, 6, 3, 4, 5, 15, 8, 19, 7, 6, 9, 10, 10, 10, 19, 16, 1, 2, 1, 7, 12, 15, 6, 1, 3, 10, 11, 19, 19, 6, 11, 13, 18, 3, 13, 18, 3, 4, 7, 5, 6, 1, 2, 4, 9, 15, 2, 3, 6, 8, 19, 1, 1, 6, 13, 5, 6, 2, 2, 3, 15, 1, 2, 4, 11, 16, 4, 18, 1, 2, 11, 13, 6, 1, 6, 7, 15, 17, 4, 15, 15, 12, 10, 16, 2, 14, 7, 19, 14, 12, 13, 4, 2, 8, 9, 10, 12, 1, 3, 9, 18, 1, 3, 2, 8, 6, 1, 4, 2, 5, 6, 10, 11, 1, 19, 6, 6, 6, 11, 2, 9, 10, 10, 1, 6, 20, 14, 11, 7, 13, 15, 14, 4, 2, 4, 1, 2, 6, 8, 1, 16, 15, 17, 11, 2, 4, 7, 11, 18, 6, 6, 5, 20, 19, 18, 2, 3, 7, 3, 6, 7, 14, 9, 3, 20, 14, 2, 8, 9, 10, 1, 2, 3, 2, 3, 8, 10, 7, 4, 9, 10, 9, 18, 5, 11, 9, 13, 14, 1, 2, 9, 9, 16, 3, 4, 7, 11, 16, 5, 1, 6, 9, 10, 3, 6, 14, 1, 17, 3, 7, 3, 3, 4, 11, 16, 12, 15, 14, 11, 5, 4, 1, 15, 7, 12, 7, 11, 2, 10, 2, 1, 2, 4, 5, 13, 15, 4, 13, 17, 5, 6, 12, 13, 1, 8, 19, 18, 18, 7, 19, 19, 11, 13, 2, 18, 2, 9, 19, 5, 14, 1, 4, 10, 16, 8, 1, 2, 6, 1, 15, 1, 3, 6, 4, 14, 14, 13, 1, 6, 12, 15, 1, 6, 9, 13, 6, 2, 14, 5, 7, 16, 2, 4, 13, 16, 7, 3, 1, 4, 5, 1, 2, 3, 4, 7, 1, 9, 10, 13, 1, 2, 3, 10, 4, 1, 8, 7, 18, 9, 1, 3, 4, 6, 7, 4, 1, 2, 6, 8, 9, 10, 1, 3, 6, 7, 15, 16, 7, 9, 13, 4, 2, 11, 17, 18, 1, 3, 10, 14, 1, 2, 4, 15, 10, 1, 2, 3, 1, 2, 1, 1, 2, 6, 9, 10, 11, 2, 7, 13, 8, 1, 3, 9, 15, 2, 9, 18, 1, 2, 10, 4, 11, 15, 8, 14, 1, 1, 2, 4, 7, 2, 14, 10, 15, 2, 14, 14, 6, 5, 11, 17, 5, 16, 7, 9, 8, 5, 8, 17, 3, 7, 3, 18, 7, 3, 7, 11, 10, 3, 11, 4, 3, 2, 7, 4, 16, 4, 7, 8, 6, 20, 10, 11, 16, 10, 8, 1, 3, 8, 9, 18, 6, 10, 2, 19, 6, 11, 9, 10, 17, 1, 2, 3, 2, 10, 16, 2, 10, 12, 6, 9, 9, 12, 13, 1, 9, 3, 9, 9, 1, 6, 18, 1, 2, 13, 1, 2, 4, 7, 14, 6, 2, 7, 10, 11, 4, 7, 5, 1, 2, 4, 2, 2, 1, 6, 12, 19, 1, 2, 5, 4, 7, 18, 18, 5, 1, 2, 3, 1, 2, 6, 4, 4, 7, 1, 3, 19, 12, 15, 10, 11, 3, 5, 16, 16, 15, 1, 3, 6, 8, 8, 15, 3, 6, 8, 10, 4, 1, 3, 7, 3, 2, 13, 3, 9, 10, 18, 1, 14, 10, 2, 12, 7, 4, 2, 7, 13, 16, 16, 2, 4, 12, 6, 6, 10, 4, 13, 13, 14, 8, 2, 4, 1, 2, 6, 9, 10, 10, 17, 8, 6, 5, 1, 2, 3, 4, 11, 14, 1, 2, 2, 3, 4, 7, 8, 2, 3, 5, 2, 14, 2, 2, 3, 4, 17, 17, 14, 1, 2, 3, 7, 3, 3, 6, 3, 1, 10, 14, 2, 3, 7, 8, 9, 9, 14, 1, 2, 1, 2, 11, 16, 16, 12, 2, 3, 6, 2, 5, 17, 15, 2, 3, 6, 11, 12, 4, 9, 1, 7, 1, 2, 3, 5, 6, 3, 19, 11, 19, 1, 2, 4, 18, 12, 9, 12, 1, 9, 10, 3, 2, 7, 13, 16, 1, 3, 1, 3, 6, 9, 7, 11, 5, 2, 1, 1, 14, 2, 3, 8, 12, 1, 12, 12, 2, 8, 5, 15, 1, 2, 3, 9, 18, 10, 13, 4, 16, 1, 2, 7, 19, 19, 2, 8, 9, 15, 10, 11, 8, 8, 17, 8, 18, 2, 9, 11, 7, 1, 2, 4, 7, 10, 3, 3, 11, 13, 3, 4, 8, 8, 19, 3, 9, 9, 1, 6, 3, 3, 9, 11, 8, 11, 8, 15, 16, 1, 3, 7, 13, 17, 12, 17, 4, 2, 3, 9, 16, 1, 3, 8, 11, 6, 1, 13, 1, 6, 19, 9, 14, 3, 7, 8, 10, 15, 17, 3, 19, 11, 11, 6, 10, 13, 1, 10, 6, 10, 1, 2, 5, 7, 10, 8, 18, 7, 3, 19, 8, 3, 4, 9, 9, 1, 3, 13, 18, 6, 1, 1, 2, 9, 2, 10, 13, 7, 12, 13, 20, 3, 6, 2, 4, 20, 1, 2, 17, 9, 13, 7, 12, 13, 1, 1, 19, 19, 14, 3, 3, 11, 2, 4, 8, 16, 16, 12, 9, 11, 3, 11, 9, 11, 1, 2, 1, 2, 13, 2, 2, 7, 1, 6, 3, 2, 7, 8, 1, 3, 4, 17, 15, 1, 2, 3, 12, 11, 14, 8, 15, 15, 5, 3, 12, 10, 16, 17, 6, 5, 4, 12, 10, 9, 6, 1, 2, 3, 10, 4, 12, 17, 16, 12, 1, 3, 14, 13, 13, 16, 16, 16, 3, 4, 11, 16, 12, 14, 1, 2, 3, 9, 10, 2, 18, 20, 17, 7, 15, 1, 3, 4, 4, 17, 16, 3, 4, 11, 1, 2, 10, 1, 15, 17, 12, 2, 3, 7, 11, 1, 2, 5, 5, 10, 10, 2, 3, 2, 4, 7, 5, 19, 1, 2, 1, 2, 18, 20, 13, 1, 2, 3, 13, 13, 9, 12, 6, 3, 9, 16, 19, 8, 19, 9, 10, 13, 1, 1, 2, 4, 13, 10, 10, 19, 6, 2, 7, 7, 7, 1, 2, 3, 4, 11, 17, 20, 3, 1, 2, 11, 3, 4, 4, 10, 5, 11, 11, 1, 2, 4, 10, 9, 2, 14, 1, 2, 3, 10, 9, 8, 8, 1, 2, 3, 1, 1, 3, 16, 19, 2, 4, 12, 8, 10, 6, 10, 1, 3, 6, 1, 2, 3, 4, 10, 5, 1, 2, 1, 2, 3, 8, 10, 12], \"Freq\": [0.9986991247171536, 0.3270638318107723, 0.5115940092915582, 0.15907773920757406, 0.9824543827794089, 0.21276170742127926, 0.7801262605446907, 0.9893615571335435, 0.6735141518131593, 0.29753637228693786, 0.02704876111699435, 0.9467768955146119, 0.9975059213793016, 0.0810184780366147, 0.9184549282878048, 0.9988397225233132, 0.9985569368283829, 0.9974417086770042, 0.0800086209151113, 0.8830363234822209, 0.03647451835835956, 0.3159559323765501, 0.2028718582694285, 0.44780646227255033, 0.03267951783925403, 0.0004853393738503074, 0.9713633410902466, 0.027849687450893255, 0.9952631360064407, 0.9889879284078071, 0.9880683681205442, 0.9945810890349416, 0.18904698545968499, 0.8100561688783275, 0.9901033286438304, 0.972931824987343, 0.9972669830210286, 0.9692860100697565, 0.9918735379661712, 0.9990713061531807, 0.8457841966515711, 0.15353407391445717, 0.9981307416295283, 0.9947712609758067, 0.9413245773613302, 0.8941057796523322, 0.12082672925352883, 0.8790402729966132, 0.8788896079621941, 0.12046097422024661, 0.9912999552122942, 0.9553060068360353, 0.996537815905521, 0.9983071736697282, 0.06717771815180683, 0.8103978697678285, 0.12049336747863766, 0.9839619670874848, 0.9849590626978568, 0.8582427954605959, 0.1392959510956988, 0.9929775266066524, 0.9257698440616241, 0.24732405246513614, 0.7419721573954084, 0.9322322975245094, 0.44189208250111495, 0.06779026265642105, 0.4895963414074853, 0.9999592805102753, 0.9923368221607087, 0.11133322728097249, 0.8881599256723239, 0.9973192011065498, 0.9945136332807708, 0.9939580130598734, 0.05153382881674071, 0.9139031131649654, 0.03399039773019068, 0.9954845399842635, 0.9706578486317176, 0.9983408107587086, 0.7232385555495576, 0.2763127444156769, 0.9896173017903441, 0.9987585815593525, 0.9973138996617629, 0.999052711688421, 0.9989247266140018, 0.9978298620356864, 0.9950213257263575, 0.13635440609033891, 0.13544839674754597, 0.4697658442381444, 0.2301263730694092, 0.028086289626581436, 0.995079090381364, 0.9035231501689355, 0.035893838284839615, 0.367484534820977, 0.5948121772916278, 0.9864038464758054, 0.9958371470574554, 0.22986076404852962, 0.20065492579295174, 0.568972997127184, 0.992984190787858, 0.9944156156490509, 0.9985440207305485, 0.9847179405524997, 0.9745945691180512, 0.9910056306002883, 0.9920721494665692, 0.9962487631641253, 0.9995168685160052, 0.9892065102423945, 0.9962169911882967, 0.988915157764423, 0.9945364842174832, 0.993202944239559, 0.9992678093510273, 0.9993151337662508, 0.16091800720802937, 0.22988286744004197, 0.5662377997996824, 0.026618016229899597, 0.015728827772213398, 0.5300166806476512, 0.4071964159699424, 0.06235490360560603, 0.9788299596545064, 0.9280643802918458, 0.0715862331905556, 0.4417814175656442, 0.5566956591289621, 0.9912630811025673, 0.03769583840422256, 0.9604899625395907, 0.9990229374026333, 0.995309435868497, 0.7874470673185628, 0.21169507205122295, 0.9988144621105088, 0.9974076440104873, 0.9022448667076458, 0.9989365987758088, 0.9983680979926911, 0.9980644304147587, 0.9959490634336386, 0.32362555438283563, 0.29750331232502825, 0.37732127416832856, 0.9965700399735344, 0.4734282512416318, 0.5257545316420227, 0.9698080721312018, 0.9964235999711154, 0.9977827507366522, 0.9942582186321823, 0.9857707854177571, 0.9743878856460949, 0.9916819880890252, 0.9988295902845818, 0.5128020424308651, 0.48637543410927453, 0.8252668381521727, 0.17444325580157177, 0.04609177728651242, 0.9514659739858634, 0.9733663307387044, 0.025151584773609934, 0.9939655481159403, 0.9804769098351048, 0.9888028719133781, 0.1224907517731565, 0.28629211002667165, 0.5673003052709719, 0.02353743857601831, 0.9858457008771703, 0.9963830852433622, 0.9972552023214888, 0.9966968744407532, 0.9592536671781555, 0.896524475096373, 0.9901447514556763, 0.06710494392498222, 0.14958810416610618, 0.7828910124581259, 0.998368405944568, 0.9935669762227488, 0.9981076445662208, 0.9961918431130261, 0.9960542939664513, 0.9990320457132481, 0.9675498095399165, 0.9888201521724264, 0.00948203675821482, 0.1738373405672717, 0.45829844331371633, 0.35715671789275827, 0.8621819836727551, 0.020505434346199374, 0.11683328871671737, 0.2920733361203297, 0.09355474047604312, 0.5966966984020798, 0.01711367203830057, 0.9984552440860767, 0.9953046982373331, 0.9775680310779181, 0.01981556819752537, 0.9976425977849905, 0.7085972495571781, 0.994471763772691, 0.9829577212243875, 0.9965280298482376, 0.8797869620907945, 0.11218759919278587, 0.04337686297780034, 0.9562626611015076, 0.9968125511240811, 0.2420319745247348, 0.7535995570429243, 0.7803530723724436, 0.01993853665092587, 0.044689823527937295, 0.1017552904943803, 0.0529402524869411, 0.9956157022278768, 0.3249881385442675, 0.16170141527568432, 0.1109715595029206, 0.4010829222034131, 0.04841338282722266, 0.9480954136997772, 0.9839948287919597, 0.9983086747241718, 0.9563487401324104, 0.992685889520275, 0.0046028712033397605, 0.998216678648913, 0.9986530856441572, 0.2487611074681892, 0.6077516877067137, 0.14151080963759266, 0.9914654170646314, 0.9785055512394122, 0.9868790003519873, 0.9968299522954274, 0.9985944365548403, 0.9966968369315069, 0.9991631629949604, 0.998020295750676, 0.9986286403200987, 0.9900159176492667, 0.9984211135220572, 0.9973546816642134, 0.960534425008836, 0.03865928026351352, 0.9981522038787785, 0.3735492912669569, 0.019447251606088865, 0.6065111594648964, 0.9925185594827768, 0.0750841244436679, 0.9245652970710478, 0.9213182092262682, 0.07769373514206057, 0.9971557181466191, 0.9943190532234026, 0.4412684008192438, 0.5563818966851335, 0.998116945172506, 0.1274304833168596, 0.8715334841135218, 0.9733892702845832, 0.9952134192216369, 0.8334669381074149, 0.9989082306504256, 0.9828091687973778, 0.990630624921162, 0.9982034673655154, 0.9978499679636614, 0.9568700613115074, 0.039144684326379846, 0.9986164273357747, 0.9947551974764295, 0.9841669631394191, 0.999458313738818, 0.993085311545786, 0.25930921297089626, 0.7395114592132968, 0.9911654755671454, 0.8436178282638178, 0.9968516962734457, 0.9701630662098133, 0.029795270198204004, 0.9993941013850393, 0.9979380336170789, 0.9799865617045376, 0.06009452112826889, 0.3070175534869975, 0.6318849647348669, 0.49834810935060053, 0.49834810935060053, 0.9855090575797856, 0.9952817148061893, 0.5469391648534265, 0.4522572468125019, 0.9924957827951373, 0.9947873134973578, 0.9258270407092614, 0.07299051358288783, 0.0008536902173437172, 0.9944116598602777, 0.999052964570537, 0.9983758833873861, 0.997409829346816, 0.9934553437614491, 0.9977871065167927, 0.5554388751706217, 0.4522051119852476, 0.24855615855078275, 0.01775401132505591, 0.2809311203788259, 0.9984190571763805, 0.9975748093993756, 0.9987594639288873, 0.9996351534032939, 0.9958351421382724, 0.705889816243025, 0.05611676363438275, 0.1272472228025258, 0.03445766188076133, 0.07629910845025724, 0.23507450619403772, 0.7183561725594336, 0.04465102352288985, 0.9967489665631912, 0.26278763807187744, 0.48931109285298074, 0.21605281030982346, 0.03166731498630982, 0.9963292932886356, 0.9979637788692919, 0.9956321554666013, 0.9918096052747358, 0.9860708027354231, 0.9914582450877962, 0.2804876618594231, 0.5417862114810108, 0.0277629708972937, 0.06777431130809933, 0.0820640757405299, 0.9957498400785374, 0.3913696826355304, 0.04844624712235934, 0.03609720373822853, 0.06269514333481797, 0.09404271500222697, 0.36572166945310486, 0.9987230636377966, 0.938162444840208, 0.059831788573992864, 0.9982200221733886, 0.9843977017661444, 0.923714188618087, 0.9950564156057036, 0.9974171932367004, 0.9915081435450822, 0.9980476968594233, 0.999315209046915, 0.9835172945614779, 0.9951494747363528, 0.9931673972908109, 0.07549517650377646, 0.9228175104402794, 0.9937312261192012, 0.9945958282847892, 0.04683293446679541, 0.9287257637017367, 0.024372241406189446, 0.9598896889563796, 0.9965895532992981, 0.716939236836775, 0.18904132810462096, 0.09381175907191815, 0.46737114962755744, 0.5324264744841405, 0.9987642561339983, 0.24848351077944256, 0.7491285002302673, 0.002206780735163788, 0.8246469068928785, 0.12113457389386915, 0.053578753837672896, 0.9986360257491873, 0.9942938898070477, 0.98450582386328, 0.99736030854349, 0.4456685057423014, 0.5539382557248944, 0.9990100279992097, 0.9863704490737343, 0.998404325684548, 0.9891071355526707, 0.9746405194776776, 0.9427803829306863, 0.04138773630881576, 0.015587588999424118, 0.8859141427294209, 0.11285530480629566, 0.9831380070313046, 0.9969916422920546, 0.9917123112586353, 0.9991119102042616, 0.20201513338471114, 0.5096060148699748, 0.2757828035318921, 0.012181817088525296, 0.9988647888823553, 0.9907407539337582, 0.9938147946295731, 0.9907961280310705, 0.9998070907250578, 0.9969392989792869, 0.992494294229282, 0.9978185602630792, 0.9973173551871534, 0.9845905285256927, 0.9358414893469834, 0.996987996190108, 0.9964460308490664, 0.9986664405900776, 0.9940550305844724, 0.9976027014518545, 0.9971498355845195, 0.9954716344598746, 0.938071639808744, 0.6809768496229295, 0.3185085382332598, 0.9973563231327686, 0.9834243134030207, 0.9993353123110719, 0.6219456653596379, 0.3697144848921883, 0.0075795680274024935, 0.996412314225003, 0.26489468265029636, 0.7321623216110676, 0.9985152149390921, 0.9980804521889329, 0.24476273276921764, 0.7539478555581925, 0.6452914713857483, 0.34895590298113427, 0.997449458007096, 0.04030931255365075, 0.9566743512733111, 0.9948691676113995, 0.8918318529051247, 0.9959454611663752, 0.9919442789311049, 0.965277607014025, 0.9920278911117694, 0.9986831860455206, 0.3755410198050636, 0.5429223076727245, 0.003319175680095259, 0.07823771245938825, 0.9917895124336666, 0.4864712751402404, 0.5104263000524492, 0.998788339416973, 0.9191579567152348, 0.9955730063305323, 0.9994015306095158, 0.2659157335354105, 0.7331977349459207, 0.9845367934868833, 0.731689957022224, 0.2681568284089881, 0.9987100870543256, 0.37891968199406323, 0.6198737361851598, 0.8763307515742964, 0.9780232202809226, 0.021442119818239465, 0.9961805755871088, 0.4139857687269754, 0.5855831530283072, 0.989882571871459, 0.9952091628337632, 0.9863862708816551, 0.9987810179311974, 0.998196797395968, 0.9987955897581119, 0.9955796850437555, 0.9967723184847251, 0.7065797701585583, 0.292788600411754, 0.9896525385856886, 0.07343345588874596, 0.8033175022980997, 0.12127646502838348, 0.00016765989916752428, 0.9850019076092053, 0.008550654857543739, 0.006203416269198399, 0.9898639972381402, 0.9968470987259348, 0.001240369319003099, 0.9978771171379931, 0.5356410900383876, 0.46109310328046765, 0.9978693887756992, 0.9954453077366564, 0.9891998124498143, 0.09151312346609627, 0.8943882600086476, 0.013665959770937043, 0.9992403417190305, 0.9993802770118806, 0.9867220917924961, 0.011960267779302983, 0.9929032716846846, 0.9325749912677496, 0.20777562919590736, 0.7902958108780868, 0.0016037570006545165, 0.9990320194823747, 0.9993759567636705, 0.9680913748404669, 0.9751957062204979, 0.993502325744978, 0.7071731525600831, 0.22506927624909373, 0.06774740270772933, 0.34977973625829323, 0.11171486694999881, 0.5380851451783786, 0.9981759493085166, 0.08661191302228838, 0.909425086734028, 0.8368420139165667, 0.16296778889909447, 0.990217447982516, 0.9939693344538447, 0.9491380052958998, 0.9922090728488573, 0.9977182820259374, 0.9984041690139328, 0.9971322509135441, 0.9951230668002745, 0.5784457949530379, 0.9633464403977877, 0.9140466768638762, 0.021330939515806238, 0.06399281854741871, 0.9948414539909939, 0.998533088418997, 0.9795735240021989, 0.03130978266608897, 0.08813124009713932, 0.8372467809228237, 0.040586755307893116, 0.9991163386590685, 0.17537905721262226, 0.3119671080012689, 0.5124783665590021, 0.9978513704490198, 0.4756579423373273, 0.5213426034657711, 0.10845190985963041, 0.41008378415672747, 0.4795607889105532, 0.9960599529783094, 0.9983597678116602, 0.9967861646283405, 0.9959714583947247, 0.9985056923797972, 0.9977185760272231, 0.9972557813317923, 0.9989762610306122, 0.27054362730979453, 0.4135622849184965, 0.31464104673914434, 0.9939461434748585, 0.9841347045330516, 0.9992855434939473, 0.998852512633479, 0.9959982454350426, 0.9974971228707729, 0.9924858307053027, 0.9894021128319749, 0.998183022799205, 0.9961421120405742, 0.9903305486289012, 0.9964497008696658, 0.9963402640849126, 0.9862423179053865, 0.01286802651507494, 0.46807437381516526, 0.5317815351715574, 0.044919935231880065, 0.16803383179332915, 0.785267015905459, 0.9904846299845859, 0.9667863232304843, 0.9978711414313207, 0.9968161632102639, 0.9921298753575619, 0.05363869121204911, 0.6438698067714554, 0.16728695266899607, 0.11282621254948262, 0.022195320501537563, 0.9821785514786324, 0.9449019492123372, 0.05481146237549497, 0.5337047646576469, 0.45146798761124757, 0.003575512045495625, 0.004052246984895041, 0.006912656621291541, 0.929039512693383, 0.07040780040744678, 0.9975167807823158, 0.99853993135759, 0.9956708853035948, 0.99978120303471, 0.04695827614944321, 0.9519723255750758, 0.99839221908749, 0.9882095251707274, 0.8665933863398405, 0.9934956799078472, 0.0048890507440728, 0.2927319133013589, 0.6899672862572739, 0.012222626860181999, 0.9985755484746357, 0.06679985759033569, 0.928518020505666, 0.9984255855106768, 0.9972374744336131, 0.9955503901947066, 0.9916678035243948, 0.09452437608333515, 0.06751741148809653, 0.8158353888144998, 0.02025522344642896, 0.9920364327808674, 0.9973962670115832, 0.993074592012472, 0.014120039701320244, 0.9855787711521531, 0.998650085090872, 0.0007370111329083927, 0.9825149341452954, 0.985016432518988, 0.8888289194726334, 0.9974987622193351, 0.3900339593058405, 0.5908070481574893, 0.01888003817182935, 0.9995213278539105, 0.0003677414745599376, 0.9708013572934913, 0.9962654957506709, 0.42179012055664944, 0.25589122341748494, 0.3216247486990407, 0.9950236670226951, 0.9888078644306209, 0.9978236644710796, 0.9948248670446753, 0.02561920003414791, 0.9735296012976206, 0.4008134923041276, 0.05041159387742636, 0.53180099442826, 0.005784937002327615, 0.011156664218774686, 0.9981379227584077, 0.9865111112717047, 0.9957286934169233, 0.9829735214514081, 0.9986454479873925, 0.9992695590673963, 0.9977878303043937, 0.9570296773719655, 0.997401908568348, 0.9960242342167552, 0.9954878889215891, 0.9347575399476585, 0.016035692820426974, 0.049093890327153354, 0.998370604945794, 0.5280921515557822, 0.13730395940450335, 0.07182053261158637, 0.2598213385654448, 0.9992627365534759, 0.9971376620171577, 0.63147122663446, 0.010763714090360114, 0.1435161878714682, 0.21348032945880893, 0.8038350427109603, 0.19498495685259915, 0.9992944294170839, 0.998654364064862, 0.9987304907105454, 0.9985832685557815, 0.9949500980330295, 0.14902487126019387, 0.2773518437342497, 0.5726418664164857, 0.9946168474964511, 0.34585447713122297, 0.6490108706659987, 0.98469880297546, 0.9994636432916449, 0.9992350467507376, 0.9942949965378307, 0.9903603478459009, 0.9110609999950753, 0.04269428089864562, 0.045940044943571894, 0.9971722257190961, 0.9841607358970872, 0.9970227329484024, 0.9805382514428631, 0.9482282514830912, 0.05043767295122826, 0.6444462234044342, 0.023135686480180002, 0.33194680601997395, 0.9839786776263512, 0.9365030352918589, 0.4697264541110094, 0.526262708992762, 0.0031702572830889274, 0.9751826590371281, 0.9933154736842252, 0.9865138409354535, 0.9970122056930598, 0.9963382704283821, 0.9961986371021151, 0.9974740841095007, 0.9885843791949455, 0.1655762253908797, 0.6623049015635188, 0.1717659908260528, 0.9924733162035795, 0.49586195452243476, 0.011258701382876537, 0.49250829879136515, 0.9956969868981012, 0.9923229377323338, 0.9988347654072898, 0.9688950406411201, 0.029647951060009795, 0.9930909200720677, 0.3852487711393655, 0.614334836341352, 0.9964821750343494, 0.9977720016909453, 0.8837438369244016, 0.16585304239337934, 0.8318977999413948, 0.9951781030047595, 0.4361976213256417, 0.5626627793512577, 0.9992644673266421, 0.34282710659278537, 0.5047016257259723, 0.15204642332867208, 0.9397438123985694, 0.058927829820372334, 0.9967958316431578, 0.3624625629658466, 0.629540240940681, 0.8479280020959296, 0.14999248601044185, 0.0016604334244698358, 0.98277331191133, 0.904954475613403, 0.991236061639793, 0.9912190708509843, 0.9972398185670743, 0.313195208993865, 0.40338750019146535, 0.2408431512199658, 0.04162721132196939, 0.9375156253437806, 0.06170351328656178, 0.996368323901777, 0.9892372683378259, 0.9975257479254143, 0.9984792791098861, 0.9903699224895318, 0.5991936174496364, 0.4002589468507043, 0.9688518888361295, 0.07616926922989127, 0.9182628568270226, 0.35850655005878485, 0.5323745335636891, 0.10155121160463434, 0.006154618885129354, 0.9887085728158655, 0.9957671742278431, 0.9991366232958079, 0.9844542391710227, 0.9939549641469002, 0.9962564303835914, 0.9963197148047813, 0.9928933686283763, 0.9947821019979178, 0.9977998407076102, 0.0017100254339462043, 0.9925698000884389, 0.005384646293427335, 0.02929443973389685, 0.8963524157793341, 0.0017232023372880502, 0.06146088336327379, 0.010913614802824318, 0.9988544205762493, 0.978835042751378, 0.9980127156718284, 0.9995246669736344, 0.9352340829824582, 0.9947011124886991, 0.9994353538005729, 0.9941909598512152, 0.9968250014679112, 0.993835637932356, 0.16343369934727428, 0.8356564717756558, 0.983557179859503, 0.976743956067346, 0.9982164408198543, 0.9980751707960035, 0.6551661917075755, 0.13033145359140752, 0.2140443487828116, 0.5984166029997637, 0.15271165536492487, 0.2486003691987149, 0.9924141863599236, 0.9961561544142641, 0.9846354381863732, 0.9504884261452727, 0.7991983759698599, 0.2000003976045177, 0.5395711311055893, 0.4599973965125926, 0.9147661062469316, 0.5910966875585385, 0.4085781814644459, 0.8900868503715221, 0.9483976455278755, 0.04920130898087369, 0.999353460270889, 0.9948857939999568, 0.99701096521829, 0.9999116081491953, 0.8622943970333304, 0.13513568908731297, 0.9658548852006861, 0.9891185441376542, 0.999287623202024, 0.9967592540977221, 0.9876076538978373, 0.9979225816180147, 0.9992401555101028, 0.9973653524712942, 0.9981746018841496, 0.9653877085699911, 0.9977200540761411, 0.9937436519532331, 0.9962153749984328, 0.9980762220934192, 0.9972832731103093, 0.3061916847870908, 0.6918754415862147, 0.9285585663198369, 0.07119003186558526, 0.8676588071874307, 0.13188157165459838, 0.9978300736677435, 0.999012060277489, 0.0009623596688245023, 0.9984481564054212, 0.30872422059391597, 0.6901973169317448, 0.99877502086655, 0.2478447077583244, 0.3888121437695647, 0.3620928258327937, 0.24014638146261846, 0.2069744104823735, 0.5522432351922472, 0.9022527982816491, 0.9837406064991604, 0.982534372116723, 0.005585466714875428, 0.011170933429750856, 0.9909133781389106, 0.9964666191881308, 0.9839483459216726, 0.9977749217036421, 0.9824273569713475, 0.9895279510391702, 0.9907187094723237, 0.996551192118407, 0.9943558731410757, 0.9901379814236781, 0.9985185255188166, 0.954233965316037, 0.9973541057015026, 0.9962128842420891, 0.9995154822433824, 0.9889989958751201, 0.9989201156371439, 0.9962611590465176, 0.9945853920164541, 0.9982688301207572, 0.9989776941693684, 0.99156163701779, 0.00798037534823171, 0.13989150224684785, 0.8595080509227725, 0.9710790579173807, 0.9850785380550844, 0.9897020098253478, 0.9988741247684068, 0.9986257535105761, 0.9906962949091186, 0.9955588013556161, 0.17491434124613706, 0.8225310757772891, 0.9546334672640409, 0.9173335555709694, 0.8420247483408605, 0.08748309073671279, 0.05888284953432591, 0.010935386342089098, 0.9964481619397603, 0.9841486533841557, 0.3937781295840029, 0.01870362617192889, 0.04475510548282984, 0.5404011990389455, 0.0020039599469923812, 0.9968270042174274, 0.995010295876942, 0.9305369380034129, 0.9879779741050599, 0.9972068124338594, 0.9946104897569549, 0.037741401511613946, 0.7693439538905921, 0.19209405641167612, 0.9981050376254239, 0.9842536567696193, 0.9693929215827385, 0.7314458272565798, 0.26579192950271285, 0.0024488271322007566, 0.738698261453759, 0.2597365209510361, 0.0012659781687296642, 0.9991221448157879, 0.997020812829468, 0.9702579078029275, 0.9993702901752322, 0.13593425717958044, 0.7700773229694892, 0.006504031443999064, 0.08650361820518755, 0.9842367846350498, 0.015504487367774187, 0.9980049717068776, 0.9950474908181522, 0.9933894350987237, 0.9953190931925201, 0.005329602235034083, 0.9935901309599254, 0.40937014077446315, 0.1090002190261808, 0.48121119422353686, 0.9934694093188206, 0.9540706425689959, 0.9954522805225477, 0.004308384680902609, 0.9264621252175214, 0.07339471407009247, 0.9643375510395213, 0.9803518683629815, 0.9853210612236182, 0.5537472008650726, 0.3627365577806031, 0.08341410294954797, 0.9889370854548242, 0.9933853501477462, 0.9916094666884764, 0.9966914116450758, 0.9944139017337962, 0.7163337555640373, 0.01243634992298676, 0.26613788835191665, 0.9860432067281264, 0.9971603891901742, 0.9675595578317341, 0.99517445427455, 0.9917221358982611, 0.9952690803261026, 0.9986339356380308, 0.7517632604685125, 0.09230125416783856, 0.1557876498010473, 0.9848941223198769, 0.9956036232801109, 0.997387184500617, 0.936551232184971, 0.9972369099649423, 0.9579530549817981, 0.04166961371062077, 0.9978871905018457, 0.9967863294654644, 0.024484842759097306, 0.138540819155905, 0.5515288315166286, 0.2705730092239487, 0.014721899127305342, 0.9955997687561267, 0.9512934203660884, 0.9983924665960072, 0.34939014244641997, 0.650339763668705, 0.9892672404568162, 0.047991152571200006, 0.9512532027505716, 0.9987085457243402, 0.9978853711410767, 0.9962904625530392, 0.9912796234691112, 0.9882296601384843, 0.48038915373668584, 0.5160049427162813, 0.0033919799028186114, 0.9984167822745083, 0.9973653096294455, 0.998674515790891, 0.9956493295712507, 0.9217229780415034, 0.06649750024999841, 0.0033812288262711054, 0.008114949183050653, 0.9980622647483175, 0.9988252578639886, 0.9969385426639952, 0.5304483007184101, 0.458819070994258, 0.010512747646082028, 0.9980276378362783, 0.9985407951049066, 0.829453482747929, 0.16649613704794194, 0.9193458822962352, 0.9992153569263291, 0.9994536976298053, 0.9982126460893171, 0.9989002269058677, 0.9969380702240256, 0.5987145982707164, 0.3996534786410665, 0.6454107456647334, 0.05259458928583393, 0.3012918614802772, 0.18066175458803765, 0.4614393731781121, 0.14893779768204243, 0.20146772632508644, 0.007209990205908002, 0.9903780748118975, 0.20473178590427835, 0.7952273692376781, 0.9995049674871656, 0.825175907641721, 0.005292198716991797, 0.11520709514682144, 0.01261985847898044, 0.04152340531793564], \"Term\": [\"accept\", \"access\", \"access\", \"access\", \"access_digex\", \"accident\", \"accident\", \"accuracy\", \"act\", \"act\", \"act\", \"added_forwarde\", \"addition\", \"address\", \"address\", \"advance\", \"advice\", \"air\", \"allow\", \"allow\", \"allow\", \"also\", \"also\", \"also\", \"also\", \"also\", \"always\", \"always\", \"ammunition\", \"amp\", \"angel\", \"animal\", \"application\", \"application\", \"appreciated\", \"approximately\", \"arab\", \"arbitrary\", \"archive\", \"argument\", \"arm\", \"arm\", \"armenian\", \"army\", \"arrival\", \"arrow\", \"article\", \"article\", \"ask\", \"ask\", \"astronomy\", \"atf\", \"atheism\", \"atheist\", \"attack\", \"attack\", \"attack\", \"au\", \"australia\", \"authority\", \"authority\", \"auto\", \"automate\", \"automatic\", \"automatic\", \"automatic_transmission\", \"available\", \"available\", \"available\", \"ax\", \"baby\", \"back\", \"back\", \"background\", \"ban\", \"bank\", \"base\", \"base\", \"base\", \"battery\", \"beauty\", \"belief\", \"believe\", \"believe\", \"belt\", \"benefit\", \"bible\", \"big\", \"bike\", \"bill\", \"bio\", \"bit\", \"bit\", \"bit\", \"bit\", \"bit\", \"blank\", \"blir\", \"block\", \"block\", \"block\", \"bolt\", \"bomb\", \"book\", \"book\", \"book\", \"boot\", \"boy\", \"brain\", \"brand\", \"brand_new\", \"brave\", \"british\", \"bus\", \"buy\", \"caltech\", \"cambridge\", \"canadian\", \"cap\", \"captain\", \"car\", \"card\", \"carry\", \"carry\", \"carry\", \"carry\", \"carry\", \"case\", \"case\", \"case\", \"catalog\", \"cause\", \"cause\", \"center\", \"center\", \"challenge\", \"character\", \"character\", \"cheap\", \"chief\", \"child\", \"child\", \"chip\", \"choice\", \"chris_behanna\", \"christian\", \"christianity\", \"church\", \"circuit\", \"city\", \"city\", \"city\", \"civilian\", \"claim\", \"claim\", \"classic\", \"clearly\", \"clipper\", \"clock\", \"closed\", \"closely\", \"cold\", \"color\", \"com\", \"com\", \"come\", \"come\", \"community\", \"community\", \"compare\", \"compare\", \"compile\", \"compound\", \"compression\", \"computer\", \"computer\", \"computer\", \"computer\", \"computing\", \"concept\", \"conclusion\", \"configuration\", \"conservative\", \"console\", \"constitution\", \"contact\", \"contact\", \"contact\", \"contain\", \"context\", \"controller\", \"cool\", \"cop\", \"copy\", \"correctly\", \"counter\", \"country\", \"country\", \"country\", \"country\", \"course\", \"course\", \"course\", \"cover\", \"cover\", \"cover\", \"cover\", \"cpu\", \"crash\", \"crime\", \"crime\", \"criminal\", \"cryptology\", \"cs_dept\", \"cult\", \"cycle\", \"cylinder\", \"cylinder\", \"d\", \"d\", \"dangerous\", \"data\", \"data\", \"datum\", \"datum\", \"datum\", \"datum\", \"datum\", \"daughter\", \"death\", \"death\", \"death\", \"death\", \"debate\", \"debate\", \"deficit\", \"dept\", \"designer\", \"detail\", \"detail\", \"develop\", \"development\", \"device\", \"device\", \"device\", \"devil\", \"diagnostic\", \"diet\", \"digital\", \"direct\", \"directory\", \"discussion\", \"disk\", \"display\", \"distant\", \"distribution\", \"distribution_usa\", \"distribution_world\", \"distribution_world\", \"division\", \"do\", \"do\", \"do\", \"download\", \"drive\", \"drive\", \"driver\", \"driver\", \"drug\", \"dry\", \"earth\", \"earth\", \"eat\", \"effort\", \"effort\", \"electron\", \"electronic\", \"eliot\", \"email\", \"enable\", \"encourage\", \"encryption\", \"engine\", \"engineer\", \"engineer\", \"engineering\", \"ensure\", \"entity\", \"entry\", \"era\", \"error\", \"error\", \"escape\", \"esdi\", \"european\", \"even\", \"even\", \"evidence\", \"exactly\", \"exe\", \"exist\", \"exist\", \"exist\", \"expansion\", \"expansion\", \"expense\", \"expensive\", \"explain\", \"explain\", \"export\", \"external\", \"fact\", \"fact\", \"fact\", \"factory\", \"faith\", \"family\", \"fan\", \"fancy\", \"faq\", \"fasst\", \"fast\", \"fast\", \"fast\", \"fast\", \"fax\", \"feature\", \"feel\", \"file\", \"film\", \"find\", \"find\", \"find\", \"find\", \"find\", \"fire\", \"fire\", \"fire\", \"firearm\", \"first\", \"first\", \"first\", \"first\", \"fix\", \"flame\", \"flight\", \"floppy\", \"flow\", \"focus\", \"follow\", \"follow\", \"follow\", \"follow\", \"follow\", \"font\", \"force\", \"force\", \"force\", \"force\", \"force\", \"force\", \"forget\", \"form\", \"form\", \"format\", \"forsale\", \"foster\", \"frame\", \"freedom\", \"french\", \"function\", \"game\", \"garage\", \"gateway\", \"gear\", \"general\", \"general\", \"genocide\", \"german\", \"get\", \"get\", \"get\", \"ghost\", \"girl\", \"give\", \"give\", \"give\", \"go\", \"go\", \"god\", \"good\", \"good\", \"good\", \"government\", \"government\", \"government\", \"graphic\", \"greatly_appreciate\", \"grief\", \"ground\", \"group\", \"group\", \"gun\", \"gun_control\", \"guy\", \"handgun\", \"handy\", \"happen\", \"happen\", \"happen\", \"hardware\", \"hardware\", \"hatred\", \"health\", \"heat\", \"hell\", \"help\", \"help\", \"help\", \"help\", \"hit\", \"hitler\", \"holocaust\", \"honor\", \"host\", \"hot\", \"hr\", \"human\", \"human_being\", \"hunt\", \"hurry\", \"icon\", \"ide\", \"image\", \"immediate\", \"impact\", \"implementation\", \"imply\", \"in\", \"include\", \"include\", \"indicate\", \"indication\", \"info\", \"information\", \"information\", \"information\", \"inhabitant\", \"input\", \"input\", \"instal\", \"intend\", \"interested\", \"interested\", \"interface\", \"interface\", \"internal\", \"international\", \"international\", \"interpretation\", \"intersection\", \"invasion\", \"investigation\", \"io\", \"islamic\", \"israeli\", \"issue\", \"issue\", \"issue\", \"issue\", \"japanese\", \"jewish\", \"jewish\", \"job\", \"jubilees_re\", \"justify\", \"key\", \"kill\", \"kill\", \"kit\", \"know\", \"know\", \"knowledge\", \"land\", \"land\", \"las_cruce\", \"last\", \"last\", \"launch\", \"law\", \"law\", \"lawyer\", \"leafs\", \"leak\", \"learn\", \"legal\", \"level\", \"library\", \"license\", \"life\", \"life\", \"lift\", \"light\", \"light\", \"light\", \"line\", \"line\", \"line\", \"line\", \"line_communication\", \"link\", \"list\", \"list\", \"listen\", \"listen\", \"load\", \"locate\", \"login\", \"look\", \"look\", \"look\", \"lose\", \"lot\", \"love\", \"love\", \"lunar\", \"lunch\", \"m\", \"m\", \"m\", \"machine\", \"mail\", \"mailing\", \"mailing_list\", \"maintenance\", \"make\", \"make\", \"make\", \"man\", \"man\", \"man\", \"manager\", \"manual\", \"manual\", \"many\", \"many\", \"map\", \"mar\", \"mask\", \"massacre\", \"master\", \"material\", \"max\", \"mb\", \"mb_burst\", \"md\", \"mean\", \"mean\", \"mean\", \"medical\", \"meet\", \"meg\", \"member\", \"member\", \"member\", \"member\", \"memory\", \"message\", \"message\", \"message\", \"method\", \"mile\", \"mile\", \"military\", \"military\", \"military\", \"militia\", \"mind\", \"mine\", \"minority\", \"minute\", \"mission\", \"mit\", \"mode\", \"model\", \"model\", \"model\", \"modem\", \"module\", \"money\", \"monitor\", \"moon\", \"moral\", \"morality\", \"moslem\", \"motherboard\", \"motif\", \"motor\", \"motto\", \"mount\", \"move\", \"move\", \"much\", \"much\", \"murder\", \"murder\", \"murder\", \"muslim\", \"narrow\", \"national\", \"nature\", \"neat\", \"need\", \"need\", \"need\", \"need\", \"need\", \"netcom\", \"never\", \"never\", \"new\", \"new\", \"new\", \"new\", \"new\", \"next\", \"next\", \"nhl\", \"nice\", \"night\", \"nntp_poste\", \"note\", \"note\", \"notice\", \"ns\", \"ns_simms\", \"nuclear\", \"number\", \"number\", \"number\", \"number\", \"object\", \"objective\", \"objective\", \"obtain\", \"obviously\", \"occupy\", \"offense\", \"offer\", \"offer\", \"offer\", \"offer\", \"officer\", \"official\", \"oil\", \"old\", \"old\", \"one\", \"one\", \"online_communication\", \"operator\", \"optimize\", \"orbit\", \"order\", \"order\", \"order\", \"organization\", \"organization\", \"original_sender\", \"originator\", \"other\", \"other\", \"other\", \"output\", \"ozone\", \"package\", \"packet\", \"page\", \"page\", \"part\", \"part\", \"part\", \"part\", \"part\", \"particular\", \"partner\", \"past\", \"pat\", \"patient\", \"pay\", \"pc\", \"pedal\", \"pen\", \"penalty\", \"penguin\", \"people\", \"people\", \"people\", \"perform\", \"performance\", \"performance\", \"performance\", \"performance\", \"perhaps\", \"period\", \"person\", \"person\", \"person\", \"person\", \"phone\", \"phone\", \"physical\", \"pick\", \"picture\", \"pin\", \"pitch\", \"plan\", \"plan\", \"plan\", \"plane\", \"planet\", \"planet\", \"planetary\", \"play\", \"player\", \"plot\", \"plug\", \"point\", \"point\", \"point\", \"police\", \"political_atheist\", \"population\", \"porsche\", \"port\", \"port\", \"post\", \"post\", \"post\", \"postscript\", \"poverty\", \"power\", \"power\", \"power\", \"powerbook\", \"preach\", \"preferably\", \"primarily\", \"principle\", \"printer\", \"prior\", \"privacy\", \"private\", \"private\", \"private\", \"probe\", \"problem\", \"problem\", \"problem\", \"procedure\", \"proceed\", \"process\", \"produce\", \"produce\", \"production\", \"program\", \"program\", \"proof\", \"propose\", \"propulsion\", \"protect\", \"protect\", \"protection\", \"prove\", \"prove\", \"provide\", \"public\", \"public\", \"public\", \"publish\", \"publish\", \"purchase\", \"quadra\", \"quadra\", \"question\", \"question\", \"question\", \"quit\", \"qwk\", \"radiation\", \"radius\", \"ram\", \"rate\", \"rate\", \"rate\", \"rate\", \"rather\", \"rather\", \"rational\", \"ray\", \"reality\", \"realize\", \"rear\", \"reason\", \"reason\", \"rebel\", \"recall\", \"recall\", \"receive\", \"receive\", \"receive\", \"receive\", \"receiver\", \"recommend\", \"reference\", \"reflect\", \"register\", \"registration\", \"reject\", \"relation\", \"reliable\", \"religion\", \"religion\", \"religious\", \"religious\", \"reply\", \"reply\", \"reply\", \"reply\", \"reply\", \"report\", \"repost\", \"request\", \"require\", \"required\", \"requirement\", \"research\", \"resolution\", \"resource\", \"restriction\", \"result\", \"result\", \"resurrection\", \"rev\", \"revelation\", \"ride\", \"right\", \"right\", \"right\", \"road\", \"road\", \"road\", \"rob\", \"rocket\", \"roughly\", \"row\", \"rule\", \"rule\", \"run\", \"run\", \"running\", \"s\", \"s\", \"sabbath_admission\", \"safety\", \"safety\", \"sale\", \"satellite\", \"saturn\", \"say\", \"scale\", \"scale\", \"scene\", \"schneider\", \"science\", \"scientific\", \"scope\", \"score\", \"screen\", \"scripture\", \"scsi\", \"scsi_controller\", \"season\", \"second_amendment\", \"secret\", \"section\", \"secure\", \"security\", \"security\", \"see\", \"see\", \"seem\", \"seem\", \"self\", \"sell\", \"send\", \"send\", \"sense\", \"sense\", \"server\", \"service\", \"service\", \"service\", \"set\", \"set\", \"set\", \"sez\", \"shareware\", \"show\", \"show\", \"show\", \"shuttle\", \"signal\", \"significance\", \"significant\", \"simm\", \"simms\", \"sister\", \"site\", \"sky\", \"slaughter\", \"slow\", \"soc_religion\", \"society\", \"soft\", \"software\", \"solar\", \"soldier\", \"solid\", \"somehow\", \"sort\", \"sound\", \"source\", \"source\", \"space\", \"space\", \"space_dig\", \"space_station\", \"spacecraft\", \"speak\", \"special\", \"specification\", \"specify\", \"speed\", \"speed\", \"ssf\", \"stall\", \"standard\", \"standard\", \"standard\", \"standard\", \"star\", \"starter\", \"state\", \"state\", \"state\", \"state\", \"state\", \"steal\", \"stick\", \"strictly\", \"suck\", \"sun\", \"super\", \"support\", \"support\", \"support\", \"switch\", \"sy\", \"synchronous\", \"system\", \"system\", \"system\", \"take\", \"take\", \"take\", \"talk\", \"tape\", \"tc\", \"team\", \"technology\", \"technology\", \"technology\", \"technology\", \"tell\", \"tell\", \"telnet\", \"terminal\", \"territory\", \"terrorism\", \"test\", \"test\", \"thank\", \"thank\", \"thank\", \"thanx\", \"thick\", \"thing\", \"thing\", \"think\", \"think\", \"throttle\", \"ticket\", \"tight\", \"time\", \"time\", \"time\", \"timing\", \"tire\", \"touch\", \"trade\", \"tradition\", \"transfer\", \"transfer\", \"transfer\", \"translate\", \"trial\", \"triangle\", \"trick\", \"troop\", \"truck\", \"truth\", \"try\", \"try\", \"try\", \"turbo\", \"turk\", \"turkish\", \"union\", \"universe\", \"university\", \"university\", \"update\", \"upgrade\", \"use\", \"use\", \"use\", \"use\", \"use\", \"usenet\", \"uunet\", \"value\", \"ve\", \"ve\", \"vendor\", \"version\", \"version\", \"video\", \"village\", \"violence\", \"volt\", \"voltage\", \"want\", \"want\", \"want\", \"war\", \"waste\", \"watch\", \"water\", \"way\", \"way\", \"way\", \"way\", \"weapon\", \"week\", \"weight\", \"well\", \"well\", \"well\", \"white\", \"whole\", \"wide\", \"wide\", \"wide_glide\", \"win\", \"window\", \"wing\", \"wire\", \"withdraw\", \"woman\", \"woman\", \"word\", \"word\", \"word\", \"work\", \"work\", \"work\", \"work\", \"work\", \"worthless\", \"write\", \"write\", \"wrong\", \"year\", \"year\", \"year\", \"year\", \"year\"]}, \"R\": 30, \"lambda.step\": 0.01, \"plot.opts\": {\"xlab\": \"PC1\", \"ylab\": \"PC2\"}, \"topic.order\": [8, 16, 18, 7, 12, 9, 19, 4, 11, 2, 14, 15, 13, 5, 1, 20, 6, 10, 3, 17]};\n",
       "\n",
       "function LDAvis_load_lib(url, callback){\n",
       "  var s = document.createElement('script');\n",
       "  s.src = url;\n",
       "  s.async = true;\n",
       "  s.onreadystatechange = s.onload = callback;\n",
       "  s.onerror = function(){console.warn(\"failed to load library \" + url);};\n",
       "  document.getElementsByTagName(\"head\")[0].appendChild(s);\n",
       "}\n",
       "\n",
       "if(typeof(LDAvis) !== \"undefined\"){\n",
       "   // already loaded: just create the visualization\n",
       "   !function(LDAvis){\n",
       "       new LDAvis(\"#\" + \"ldavis_el692421835002464806843467272\", ldavis_el692421835002464806843467272_data);\n",
       "   }(LDAvis);\n",
       "}else if(typeof define === \"function\" && define.amd){\n",
       "   // require.js is available: use it to load d3/LDAvis\n",
       "   require.config({paths: {d3: \"https://d3js.org/d3.v5\"}});\n",
       "   require([\"d3\"], function(d3){\n",
       "      window.d3 = d3;\n",
       "      LDAvis_load_lib(\"https://cdn.jsdelivr.net/gh/bmabey/pyLDAvis@3.3.1/pyLDAvis/js/ldavis.v3.0.0.js\", function(){\n",
       "        new LDAvis(\"#\" + \"ldavis_el692421835002464806843467272\", ldavis_el692421835002464806843467272_data);\n",
       "      });\n",
       "    });\n",
       "}else{\n",
       "    // require.js not available: dynamically load d3 & LDAvis\n",
       "    LDAvis_load_lib(\"https://d3js.org/d3.v5.js\", function(){\n",
       "         LDAvis_load_lib(\"https://cdn.jsdelivr.net/gh/bmabey/pyLDAvis@3.3.1/pyLDAvis/js/ldavis.v3.0.0.js\", function(){\n",
       "                 new LDAvis(\"#\" + \"ldavis_el692421835002464806843467272\", ldavis_el692421835002464806843467272_data);\n",
       "            })\n",
       "         });\n",
       "}\n",
       "</script>"
      ],
      "text/plain": [
       "PreparedData(topic_coordinates=              x         y  topics  cluster       Freq\n",
       "topic                                                \n",
       "7      0.356828 -0.049142       1        1  27.127117\n",
       "15     0.333085  0.081698       2        1  25.547115\n",
       "17     0.294673  0.077711       3        1  14.993518\n",
       "6      0.158506  0.238777       4        1   5.202736\n",
       "11    -0.027635 -0.001088       5        1   4.526994\n",
       "8      0.131776 -0.228452       6        1   3.717997\n",
       "18     0.095179  0.142879       7        1   3.697516\n",
       "3      0.065768 -0.091741       8        1   3.620640\n",
       "10     0.038768 -0.228633       9        1   2.693555\n",
       "1      0.022535 -0.206196      10        1   1.998243\n",
       "13    -0.038795  0.063606      11        1   1.423677\n",
       "14    -0.077514  0.004613      12        1   1.250661\n",
       "12    -0.117882  0.036705      13        1   1.054659\n",
       "4     -0.150303  0.017897      14        1   0.796776\n",
       "0     -0.143825  0.019712      15        1   0.725553\n",
       "19    -0.155538  0.052743      16        1   0.524508\n",
       "5     -0.185682  0.017443      17        1   0.360110\n",
       "9     -0.194654  0.017535      18        1   0.325958\n",
       "2     -0.195231  0.017252      19        1   0.305915\n",
       "16    -0.210060  0.016680      20        1   0.106753, topic_info=              Term          Freq         Total Category  logprob  loglift\n",
       "4434            ax  39423.000000  39423.000000  Default   30.000  30.0000\n",
       "18            line  17893.000000  17893.000000  Default   29.000  29.0000\n",
       "143   organization  10877.000000  10877.000000  Default   28.000  28.0000\n",
       "380          drive   2716.000000   2716.000000  Default   27.000  27.0000\n",
       "144         people   8106.000000   8106.000000  Default   26.000  26.0000\n",
       "...            ...           ...           ...      ...      ...      ...\n",
       "6383           aid      0.021173      1.260928  Topic20  -11.093   2.7555\n",
       "6504        winner      0.021173      1.260928  Topic20  -11.093   2.7555\n",
       "6095         print      0.021173      1.260973  Topic20  -11.093   2.7555\n",
       "3763        accord      0.021173      1.260984  Topic20  -11.093   2.7555\n",
       "5620         judge      0.021173      1.260963  Topic20  -11.093   2.7555\n",
       "\n",
       "[866 rows x 6 columns], token_table=      Topic      Freq          Term\n",
       "term                               \n",
       "1390      1  0.998699        accept\n",
       "86        3  0.327064        access\n",
       "86        4  0.511594        access\n",
       "86       11  0.159078        access\n",
       "3180     11  0.982454  access_digex\n",
       "...     ...       ...           ...\n",
       "40        2  0.825176          year\n",
       "40        3  0.005292          year\n",
       "40        8  0.115207          year\n",
       "40       10  0.012620          year\n",
       "40       12  0.041523          year\n",
       "\n",
       "[1098 rows x 3 columns], R=30, lambda_step=0.01, plot_opts={'xlab': 'PC1', 'ylab': 'PC2'}, topic_order=[8, 16, 18, 7, 12, 9, 19, 4, 11, 2, 14, 15, 13, 5, 1, 20, 6, 10, 3, 17])"
      ]
     },
     "execution_count": 34,
     "metadata": {},
     "output_type": "execute_result"
    }
   ],
   "source": [
    "# Visualize the topics\n",
    "pyLDAvis.enable_notebook()\n",
    "vis = pyLDAvis.gensim_models.prepare(lda_model, corpus, id2word)\n",
    "vis"
   ]
  },
  {
   "cell_type": "markdown",
   "id": "127fb0fb-3109-492a-ad4d-280d9990da34",
   "metadata": {},
   "source": [
    "## Interpretation\n",
    "\n",
    "Each bubble on the left-hand side plot represents a topic. The larger the bubble, the more prevalent is that topic.\n",
    "\n",
    "A good topic model would have fairly big, non-overlapping bubbles scattered throughout the chart instead of being clustered in one quadrant.\n",
    "\n",
    "A model with too many topics, would typically have many overlaps, small sized bubbles clustered in one region of the chart.\n",
    "\n",
    "If I move the cursor over one of the bubbles, the words and bars on the right-hand side will update. These words are the salient keywords that form the selected topic."
   ]
  },
  {
   "cell_type": "markdown",
   "id": "d6713402-c158-4e01-b69d-27c05c0e46ee",
   "metadata": {},
   "source": [
    "With this model building the project is done. This was my first try and topic assessment. I would like to try using different models in the future and compare their effectiveness."
   ]
  },
  {
   "cell_type": "code",
   "execution_count": null,
   "id": "294f4c9f-3f96-4bf7-96ba-3daf9b11efc0",
   "metadata": {},
   "outputs": [],
   "source": []
  }
 ],
 "metadata": {
  "kernelspec": {
   "display_name": "Python 3",
   "language": "python",
   "name": "python3"
  },
  "language_info": {
   "codemirror_mode": {
    "name": "ipython",
    "version": 3
   },
   "file_extension": ".py",
   "mimetype": "text/x-python",
   "name": "python",
   "nbconvert_exporter": "python",
   "pygments_lexer": "ipython3",
   "version": "3.8.8"
  }
 },
 "nbformat": 4,
 "nbformat_minor": 5
}
